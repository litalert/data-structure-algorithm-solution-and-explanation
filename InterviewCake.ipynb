{
 "cells": [
  {
   "cell_type": "markdown",
   "metadata": {},
   "source": [
    "naive- try every possible combinations <br>\n",
    "greedy- keeping track of \"the best/worst case\" so you don't  have to compare all pairs <br>\n",
    "mapping- mapping to another dict/array- sarcrifice space for time <br>\n",
    "break problem down to sub problems/sub dimension (don't freakout, try to break it down) <br>\n",
    "only track what you need to track <br>\n",
    "divide and conquer to get n lg n <br>\n",
    "use a variable and update the value instead of storing multiple values when trying to optimize space <br>\n",
    "recursion- think of what the base case return and work backwords from there <br>\n",
    "sort + 1 pass improves your complexity to 0(nlgn) <br>\n",
    "pigeon hole principle<br>\n",
    "you can use 2 markers<br>\n",
    "if array is sorted, use binary search<br>\n",
    "look for repeated calculation, save it <br>\n",
    "draw out sample inputs and break it down into cases <br>"
   ]
  },
  {
   "cell_type": "markdown",
   "metadata": {},
   "source": [
    "# max profit"
   ]
  },
  {
   "cell_type": "code",
   "execution_count": 151,
   "metadata": {
    "collapsed": true
   },
   "outputs": [],
   "source": [
    "def get_max_profit(array):\n",
    "    max_profit = array[1]-array[0]\n",
    "    for i in range(len(array)):\n",
    "        for j in range(i, len(array)):\n",
    "            if i != j and array[j] - array[i] > max_profit:\n",
    "                max_profit = array[j] - array[i]\n",
    "    \n",
    "    return max_profit"
   ]
  },
  {
   "cell_type": "code",
   "execution_count": 152,
   "metadata": {},
   "outputs": [
    {
     "data": {
      "text/plain": [
       "6"
      ]
     },
     "execution_count": 152,
     "metadata": {},
     "output_type": "execute_result"
    }
   ],
   "source": [
    "stock_prices = [10, 7, 5, 8, 11, 9]\n",
    "get_max_profit(stock_prices)"
   ]
  },
  {
   "cell_type": "code",
   "execution_count": 153,
   "metadata": {
    "collapsed": true
   },
   "outputs": [],
   "source": [
    "def get_max_profit_opt(array):\n",
    "    lowest = array[0]\n",
    "    max_profit = array[1]-array[0]\n",
    "    for i in range(1, len(array)):\n",
    "        j = i - 1\n",
    "        if array[j] < lowest:\n",
    "            lowest = array[j]\n",
    "        if array[i] - lowest > max_profit:\n",
    "            max_profit = array[i] - lowest\n",
    "    return max_profit    "
   ]
  },
  {
   "cell_type": "code",
   "execution_count": 154,
   "metadata": {},
   "outputs": [
    {
     "data": {
      "text/plain": [
       "-2"
      ]
     },
     "execution_count": 154,
     "metadata": {},
     "output_type": "execute_result"
    }
   ],
   "source": [
    "stock_prices = [10, 7, 5, 3, 1]\n",
    "get_max_profit_opt(stock_prices)"
   ]
  },
  {
   "cell_type": "markdown",
   "metadata": {},
   "source": [
    "lesson learned: <br>\n",
    "forgot edge case where array is less than 2 <br> <br>\n",
    "if len(array) < 2: <br>\n",
    "    raise ValueError('too little data')"
   ]
  },
  {
   "cell_type": "markdown",
   "metadata": {},
   "source": [
    "# Angry Bird"
   ]
  },
  {
   "cell_type": "code",
   "execution_count": 155,
   "metadata": {
    "collapsed": true
   },
   "outputs": [],
   "source": [
    "def counting_sort(array, max_score):\n",
    "    score_counts = [0] * (max_score+1)\n",
    "    for i in array:\n",
    "        score_counts[i] = score_counts[i] + 1\n",
    "        \n",
    "    sorted_score = []\n",
    "    for j in range(len(score_counts)):\n",
    "        for times in range(score_counts[j]):\n",
    "            sorted_score.append(j)\n",
    "            \n",
    "    return sorted_score"
   ]
  },
  {
   "cell_type": "code",
   "execution_count": 156,
   "metadata": {},
   "outputs": [
    {
     "data": {
      "text/plain": [
       "[1, 3, 3, 3, 5, 7, 10]"
      ]
     },
     "execution_count": 156,
     "metadata": {},
     "output_type": "execute_result"
    }
   ],
   "source": [
    "scores = [10, 7, 5, 3, 1, 3, 3]\n",
    "counting_sort(scores, 10)"
   ]
  },
  {
   "cell_type": "markdown",
   "metadata": {},
   "source": [
    "lesson learned: <br>\n",
    "arrays/dictionary lets you sarcrifice space for time"
   ]
  },
  {
   "cell_type": "markdown",
   "metadata": {},
   "source": [
    "# Permutation Palindrome "
   ]
  },
  {
   "cell_type": "code",
   "execution_count": 43,
   "metadata": {
    "collapsed": true
   },
   "outputs": [],
   "source": [
    "def isPalindrome(word):\n",
    "    if len(list(word)) < 3:\n",
    "        return \"not enough length\"\n",
    "    array = list(word)\n",
    "    even = []\n",
    "    odd = []\n",
    "    for i in range(len(array)):\n",
    "        char = array[i]\n",
    "        if char not in even and char not in odd:\n",
    "            count = 1\n",
    "            for j in range((i+1), len(array)):\n",
    "                if array[j] == array[i]:\n",
    "                    count = count + 1\n",
    "            if count % 2 == 0:\n",
    "                even.append(array[i])\n",
    "            else:\n",
    "                odd.append(array[i])\n",
    "    if len(odd) > 1:\n",
    "        return False\n",
    "    else:\n",
    "        return True"
   ]
  },
  {
   "cell_type": "code",
   "execution_count": 45,
   "metadata": {},
   "outputs": [
    {
     "data": {
      "text/plain": [
       "True"
      ]
     },
     "execution_count": 45,
     "metadata": {},
     "output_type": "execute_result"
    }
   ],
   "source": [
    "isPalindrome('civic')"
   ]
  },
  {
   "cell_type": "code",
   "execution_count": 62,
   "metadata": {
    "collapsed": true
   },
   "outputs": [],
   "source": [
    "def isPalindrome_opt(word):\n",
    "    odd = set()\n",
    "    for char in word:\n",
    "        if char in odd:\n",
    "            odd.remove(char)\n",
    "        else:\n",
    "            odd.add(char)  \n",
    "    return len(odd) == 1        "
   ]
  },
  {
   "cell_type": "code",
   "execution_count": 63,
   "metadata": {},
   "outputs": [
    {
     "data": {
      "text/plain": [
       "True"
      ]
     },
     "execution_count": 63,
     "metadata": {},
     "output_type": "execute_result"
    }
   ],
   "source": [
    "isPalindrome_opt('civic')"
   ]
  },
  {
   "cell_type": "markdown",
   "metadata": {},
   "source": [
    "lesson learned: <br>\n",
    "use sets instead of lists when you only need it to check if an item exists <br>\n",
    "set1.add(char) <br>\n",
    "set1.remove(char)"
   ]
  },
  {
   "cell_type": "markdown",
   "metadata": {},
   "source": [
    "# Overlapping rectangles"
   ]
  },
  {
   "cell_type": "code",
   "execution_count": 82,
   "metadata": {
    "collapsed": true
   },
   "outputs": [],
   "source": [
    "def find_x_overlap(rec1, rec2):\n",
    "    rec1_line = range(rec1['left_x'], (rec1['left_x']+rec1['width']+1), 1)\n",
    "    rec2_line = range(rec2['left_x'], (rec2['left_x']+rec2['width']+1), 1)\n",
    "    overlap = []\n",
    "    for i in rec1_line:\n",
    "        if i in rec2_line:\n",
    "            overlap.append(i)\n",
    "    return overlap\n",
    "\n",
    "def find_y_overlap(rec1, rec2):\n",
    "    rec1_line = range(rec1['bottom_y'], (rec1['bottom_y']+rec1['height']+1), 1)\n",
    "    rec2_line = range(rec2['bottom_y'], (rec2['bottom_y']+rec2['height']+1), 1)\n",
    "    overlap = []\n",
    "    for i in rec1_line:\n",
    "        if i in rec2_line:\n",
    "            overlap.append(i)\n",
    "    return overlap    \n",
    "\n",
    "def find_overlap_rec(rec1, rec2):\n",
    "    x_overlap = find_x_overlap(rec1, rec2)\n",
    "    y_overlap = find_y_overlap(rec1, rec2)\n",
    "    \n",
    "    if len(x_overlap) <= 1 or len(y_overlap) <= 1:\n",
    "        return \"not overlaping\"\n",
    "    else:\n",
    "        rec = {}\n",
    "        rec['left_x'] = min(x_overlap)\n",
    "        rec['bottom_y'] = min(y_overlap)\n",
    "        rec['width'] = max(x_overlap) - min(x_overlap)\n",
    "        rec['height'] = max(y_overlap) - min(y_overlap)\n",
    "        return rec"
   ]
  },
  {
   "cell_type": "code",
   "execution_count": 109,
   "metadata": {},
   "outputs": [
    {
     "data": {
      "text/plain": [
       "{'bottom_y': 2, 'height': 2, 'left_x': 5, 'width': 2}"
      ]
     },
     "execution_count": 109,
     "metadata": {},
     "output_type": "execute_result"
    }
   ],
   "source": [
    "one = {\n",
    "# Coordinates of bottom-left corner\n",
    "'left_x'   : 1,\n",
    "'bottom_y' : 1,\n",
    "\n",
    "# Width and height\n",
    "'width'    : 6,\n",
    "'height'   : 3,\n",
    "}\n",
    "\n",
    "two = {\n",
    "'left_x'   : 5,\n",
    "'bottom_y' : 2,\n",
    "'width'    : 3,\n",
    "'height'   : 6,\n",
    "}\n",
    "\n",
    "find_overlap_rec(one, two)"
   ]
  },
  {
   "cell_type": "code",
   "execution_count": 113,
   "metadata": {
    "collapsed": true
   },
   "outputs": [],
   "source": [
    "def find_x_overlap_opt(rec1, rec2):\n",
    "    if rec1['left_x'] < rec2['left_x']:\n",
    "        most_left = rec1\n",
    "        not_most_left = rec2\n",
    "    else:\n",
    "        most_left = rec2\n",
    "        not_most_left = rec1\n",
    "        \n",
    "    if most_left['left_x'] + most_left['width'] < not_most_left['left_x']:\n",
    "        return []\n",
    "    else:\n",
    "        sorted_points = sorted([rec1['left_x'], (rec1['left_x']+rec1['width']), rec2['left_x'], (rec2['left_x']+rec2['width'])])\n",
    "        return [sorted_points[1], sorted_points[2]]\n",
    "    \n",
    "def find_y_overlap_opt(rec1, rec2):\n",
    "    if rec1['bottom_y'] < rec2['bottom_y']:\n",
    "        most_left = rec1\n",
    "        not_most_left = rec2\n",
    "    else:\n",
    "        most_left = rec2\n",
    "        not_most_left = rec1\n",
    "        \n",
    "    if most_left['bottom_y'] + most_left['height'] < not_most_left['bottom_y']:\n",
    "        return []\n",
    "    else:\n",
    "        sorted_points = sorted([rec1['bottom_y'], (rec1['bottom_y']+rec1['height']), rec2['bottom_y'], (rec2['bottom_y']+rec2['height'])])\n",
    "        return [sorted_points[1], sorted_points[2]]\n",
    "    \n",
    "def find_overlap_rec_opt(rec1, rec2):\n",
    "    x_overlap = find_x_overlap_opt(rec1, rec2)\n",
    "    y_overlap = find_y_overlap_opt(rec1, rec2)\n",
    "    \n",
    "    if len(x_overlap) <= 1 or len(y_overlap) <= 1:\n",
    "        return \"not overlaping\"\n",
    "    else:\n",
    "        rec = {}\n",
    "        rec['left_x'] = min(x_overlap)\n",
    "        rec['bottom_y'] = min(y_overlap)\n",
    "        rec['width'] = max(x_overlap) - min(x_overlap)\n",
    "        rec['height'] = max(y_overlap) - min(y_overlap)\n",
    "        return rec"
   ]
  },
  {
   "cell_type": "code",
   "execution_count": 114,
   "metadata": {},
   "outputs": [
    {
     "data": {
      "text/plain": [
       "{'bottom_y': 2, 'height': 2, 'left_x': 5, 'width': 2}"
      ]
     },
     "execution_count": 114,
     "metadata": {},
     "output_type": "execute_result"
    }
   ],
   "source": [
    "one = {\n",
    "# Coordinates of bottom-left corner\n",
    "'left_x'   : 1,\n",
    "'bottom_y' : 1,\n",
    "\n",
    "# Width and height\n",
    "'width'    : 6,\n",
    "'height'   : 3,\n",
    "}\n",
    "\n",
    "two = {\n",
    "'left_x'   : 5,\n",
    "'bottom_y' : 2,\n",
    "'width'    : 3,\n",
    "'height'   : 6,\n",
    "}\n",
    "\n",
    "find_overlap_rec_opt(one, two)"
   ]
  },
  {
   "cell_type": "markdown",
   "metadata": {},
   "source": [
    "lesson learned: <br>\n",
    "break the problem down to smaller pieces. make those functions first, then attack the whole problem with the functions."
   ]
  },
  {
   "cell_type": "markdown",
   "metadata": {},
   "source": [
    "# Parenticals"
   ]
  },
  {
   "cell_type": "code",
   "execution_count": 125,
   "metadata": {
    "collapsed": true
   },
   "outputs": [],
   "source": [
    "def parenticals(string, position):\n",
    "    stack = []\n",
    "    for i in range(len(string)):\n",
    "        char = string[i]\n",
    "        if char == '(':\n",
    "            stack.append(i)\n",
    "        if char == ')':\n",
    "            if len(stack) == 0:\n",
    "                return('unbalanced parenthesis')\n",
    "            elif stack[-1] == position:\n",
    "                return i\n",
    "            else:\n",
    "                stack.pop()\n",
    "    if len(stack) != 0:\n",
    "        return('unbalanced parenthesis')"
   ]
  },
  {
   "cell_type": "code",
   "execution_count": 130,
   "metadata": {},
   "outputs": [
    {
     "data": {
      "text/plain": [
       "79"
      ]
     },
     "execution_count": 130,
     "metadata": {},
     "output_type": "execute_result"
    }
   ],
   "source": [
    "parenticals(\"Sometimes (when I nest them (my parentheticals) too much (like this (and this))) they get confusing.\", 10)"
   ]
  },
  {
   "cell_type": "code",
   "execution_count": 128,
   "metadata": {
    "collapsed": true
   },
   "outputs": [],
   "source": [
    "def parenticals_opt(string, position):\n",
    "    stack_count = 0\n",
    "    for i in range(position, len(string), 1):\n",
    "        if string[i] == '(':\n",
    "            stack_count = stack_count + 1\n",
    "        if string[i] == ')':\n",
    "            stack_count = stack_count - 1\n",
    "            \n",
    "            if stack_count == 0:\n",
    "                return i \n",
    "    return('unbalanced parenthesis')"
   ]
  },
  {
   "cell_type": "code",
   "execution_count": 131,
   "metadata": {},
   "outputs": [
    {
     "data": {
      "text/plain": [
       "'unbalanced parenthesis'"
      ]
     },
     "execution_count": 131,
     "metadata": {},
     "output_type": "execute_result"
    }
   ],
   "source": [
    "parenticals(\"Sometimes (when I nest them (my parentheticals) too much (like this (and this))) they get confusing.\", 10)"
   ]
  },
  {
   "cell_type": "markdown",
   "metadata": {},
   "source": [
    "lesson learned: <br>\n",
    "use stack when you deal with \"parsing\" broblem. this problem can be optimized (space wise) by not using the stack but only use counting wiht 0(1) space since all the parenthesis are the same"
   ]
  },
  {
   "cell_type": "markdown",
   "metadata": {},
   "source": [
    "# Ananogram ReadLine"
   ]
  },
  {
   "cell_type": "code",
   "execution_count": 38,
   "metadata": {},
   "outputs": [
    {
     "name": "stdout",
     "output_type": "stream",
     "text": [
      "['hello', 'ehllo', 'olleh']\n",
      "['world', 'wrold', 'dlrow']\n",
      "['bye']\n"
     ]
    }
   ],
   "source": [
    "my_dict = {}\n",
    "file = open('ananogram_file.txt')\n",
    "line = file.readline()\n",
    "while line:\n",
    "   \n",
    "    word = line.strip()\n",
    "    sorted_word = sorted(word)\n",
    "    sorted_word_tuple = tuple(sorted_word)\n",
    "    if sorted_word_tuple not in my_dict:\n",
    "        my_dict[sorted_word_tuple] = [word]\n",
    "    else:\n",
    "        my_dict[sorted_word_tuple].append(word)\n",
    "    \n",
    "    line = file.readline()\n",
    "\n",
    "for value in my_dict.values():\n",
    "    print(value)"
   ]
  },
  {
   "cell_type": "markdown",
   "metadata": {},
   "source": [
    "lesson learned: <br>\n",
    "use readline() and while line: to parse file line by line <br>\n",
    "dictionary keys has to be tuple and not list (immutable nature of keys)"
   ]
  },
  {
   "cell_type": "markdown",
   "metadata": {},
   "source": [
    "# String Permutation"
   ]
  },
  {
   "cell_type": "code",
   "execution_count": 69,
   "metadata": {
    "collapsed": true
   },
   "outputs": [],
   "source": [
    "def perm_rec(string):\n",
    "    \n",
    "    if len(string) <= 1:\n",
    "        return [string]\n",
    "    \n",
    "    else:\n",
    "        except_last = string[:len(string)-1]\n",
    "        last = string[-1]\n",
    "        \n",
    "        prev_perm = perm_rec(except_last)\n",
    "        \n",
    "        permutation = []\n",
    "        for i in prev_perm:\n",
    "            for j in range(len(i)+1):\n",
    "                permutation.append(i[:j]+last+i[j:])\n",
    "    \n",
    "        return permutation   "
   ]
  },
  {
   "cell_type": "code",
   "execution_count": 81,
   "metadata": {},
   "outputs": [
    {
     "data": {
      "text/plain": [
       "['tac', 'atc', 'act', 'tca', 'cta', 'cat']"
      ]
     },
     "execution_count": 81,
     "metadata": {},
     "output_type": "execute_result"
    }
   ],
   "source": [
    "perm_rec('cat')"
   ]
  },
  {
   "cell_type": "markdown",
   "metadata": {},
   "source": [
    "lesson learned: <br>\n",
    "draw out what you need to solve- solve it by hand first before putting it to code <br>\n",
    "break down the problem into smaller problems <br>\n",
    "for recursion problem, think about the last case where the functing return something and work backwords from there "
   ]
  },
  {
   "cell_type": "markdown",
   "metadata": {},
   "source": [
    "# Find duplicate (opt for space)"
   ]
  },
  {
   "cell_type": "code",
   "execution_count": 103,
   "metadata": {
    "collapsed": true
   },
   "outputs": [],
   "source": [
    "def dup_space(array):\n",
    "    for i in range(len(array)):\n",
    "        for j in range((i+1),len(array)):\n",
    "            if array[i] == array[j]:\n",
    "                return array[i]    "
   ]
  },
  {
   "cell_type": "code",
   "execution_count": 105,
   "metadata": {},
   "outputs": [
    {
     "data": {
      "text/plain": [
       "3"
      ]
     },
     "execution_count": 105,
     "metadata": {},
     "output_type": "execute_result"
    }
   ],
   "source": [
    "dup_space([4,1,3,3,5,3])"
   ]
  },
  {
   "cell_type": "code",
   "execution_count": 126,
   "metadata": {
    "collapsed": true
   },
   "outputs": [],
   "source": [
    "def dup_space_opt(array):\n",
    "    left = 1\n",
    "    right = len(array)-1\n",
    "    \n",
    "    while left != right: \n",
    "        mid = int((left + right)/2) \n",
    "        left_bucket = 0\n",
    "        possible_num_items = mid - left + 1 \n",
    "        for item in array:\n",
    "            if item >= left and item <= mid:\n",
    "                left_bucket = left_bucket + 1\n",
    "        if left_bucket > possible_num_items: \n",
    "            right = mid \n",
    "        else:\n",
    "            left = mid + 1 \n",
    "    return left"
   ]
  },
  {
   "cell_type": "code",
   "execution_count": 133,
   "metadata": {},
   "outputs": [
    {
     "data": {
      "text/plain": [
       "4"
      ]
     },
     "execution_count": 133,
     "metadata": {},
     "output_type": "execute_result"
    }
   ],
   "source": [
    "dup_space_opt([4,1,2,3,4,5])"
   ]
  },
  {
   "cell_type": "markdown",
   "metadata": {},
   "source": [
    "lesson learned: <br>\n",
    "-really read the instructions <br>\n",
    "-focus on getting big picture done, come back to off-by-one cases later <br>\n",
    "-lg n is usually achieved with divide and conqour patterns <br>\n",
    "-this is really tricky, solution is found using modified binary search <br>\n",
    "-might be helpful to kind of memorize the edge cases or even/odd arrays or cutting left/right??? <br>\n",
    "-the idea of the solution is that the array has length 1-n+1 and it contains item from 1-n. so, if you sorted the array, you can see your subarrays with repeating items will have more items than possible_num_items. best way to find that is thorugh divide and conqour"
   ]
  },
  {
   "cell_type": "markdown",
   "metadata": {},
   "source": [
    "# Graph Coloring"
   ]
  },
  {
   "cell_type": "code",
   "execution_count": 245,
   "metadata": {
    "collapsed": true
   },
   "outputs": [],
   "source": [
    "class GraphNode:\n",
    "\n",
    "    def __init__(self, label):\n",
    "        self.label = label\n",
    "        self.neighbors = set()\n",
    "        self.color = None\n",
    "\n",
    "a = GraphNode('a')\n",
    "b = GraphNode('b')\n",
    "c = GraphNode('c')\n",
    "\n",
    "a.neighbors.add(b)\n",
    "b.neighbors.add(a)\n",
    "b.neighbors.add(c)\n",
    "c.neighbors.add(b)\n",
    "\n",
    "graph = [a, b, c]\n",
    "\n",
    "\n",
    "def graph_color(graph, max_degree):\n",
    "    for node in graph:\n",
    "        avail_col = list(range(max_degree))\n",
    "        for neighbor in node.neighbors:\n",
    "            if neighbor.label == node.label:\n",
    "                return('cant do legal coloring with loops')\n",
    "            if neighbor.color != None:\n",
    "                avail_col.pop(neighbor.color)\n",
    "        node.color = avail_col[0]"
   ]
  },
  {
   "cell_type": "code",
   "execution_count": 246,
   "metadata": {},
   "outputs": [
    {
     "name": "stdout",
     "output_type": "stream",
     "text": [
      "a 0\n",
      "b 1\n",
      "c 0\n"
     ]
    }
   ],
   "source": [
    "graph_color(graph, 2)\n",
    "for i in graph:\n",
    "    print(i.label, i.color)"
   ]
  },
  {
   "cell_type": "markdown",
   "metadata": {},
   "source": [
    "lesson learned: <br>\n",
    "really read the question because the question has hints to your solution <br>\n",
    "having max neighbor of x and having x+1 available color implies there will always be at least 1 legal color"
   ]
  },
  {
   "cell_type": "markdown",
   "metadata": {},
   "source": [
    "# Meeting Merge"
   ]
  },
  {
   "cell_type": "code",
   "execution_count": 243,
   "metadata": {
    "collapsed": true
   },
   "outputs": [],
   "source": [
    "def meeting_merge(tup_list):\n",
    "    sorted_list = sorted(tup_list)\n",
    "    merged_list = [sorted_list[0]]\n",
    "    for i in range(1, len(sorted_list)):\n",
    "        right = sorted_list[i]\n",
    "        left = merged_list[-1]\n",
    "        if left[1] >= right[0]:\n",
    "            x = left[0]\n",
    "            y = max(left[1], right[1])\n",
    "            merged_list.pop()\n",
    "            merged_list.append((x,y))\n",
    "        else:\n",
    "            merged_list.append(right)\n",
    "    return merged_list"
   ]
  },
  {
   "cell_type": "code",
   "execution_count": 248,
   "metadata": {},
   "outputs": [
    {
     "data": {
      "text/plain": [
       "[(0, 1), (3, 8), (9, 12)]"
      ]
     },
     "execution_count": 248,
     "metadata": {},
     "output_type": "execute_result"
    }
   ],
   "source": [
    "meeting_merge([(0, 1), (3, 5), (4, 8), (10, 12), (9, 10)])"
   ]
  },
  {
   "cell_type": "markdown",
   "metadata": {},
   "source": [
    "lesson learned: <br>\n",
    "sorted(my_tuples_list) give you sorted order of tuples based on first item <br>\n",
    "sorting then walk through once allows you to get O(n lg n) isntead of n^2 "
   ]
  },
  {
   "cell_type": "markdown",
   "metadata": {},
   "source": [
    "# Superbalanced Tree (DFS- iterative)"
   ]
  },
  {
   "cell_type": "code",
   "execution_count": 99,
   "metadata": {
    "collapsed": true
   },
   "outputs": [],
   "source": [
    "def super_balanced_ite(root_node):\n",
    "    stack = [(root_node, 0)]\n",
    "    depth_diff = []\n",
    "    while stack:\n",
    "        current_node, depth = stack.pop()\n",
    "        #if leaf\n",
    "        if (not current_node.left) and (not current_node.right):\n",
    "            if depth not in depth_diff:\n",
    "                depth_diff.append(depth)\n",
    "            if (len(depth_diff) > 2):\n",
    "                return False\n",
    "        #if not leaf\n",
    "        else:\n",
    "            if current_node.left:\n",
    "                stack.append((current_node.left, depth+1)) \n",
    "            if current_node.right:\n",
    "                stack.append((current_node.right, depth+1))\n",
    "    if len(depth_diff) == 2:\n",
    "        if (depth_diff[0]-depth_diff[1] not in [-1, 1]):\n",
    "            return False\n",
    "        else:\n",
    "            return True\n",
    "    else:\n",
    "        return True"
   ]
  },
  {
   "cell_type": "code",
   "execution_count": 100,
   "metadata": {},
   "outputs": [
    {
     "data": {
      "text/plain": [
       "False"
      ]
     },
     "execution_count": 100,
     "metadata": {},
     "output_type": "execute_result"
    }
   ],
   "source": [
    "class BinaryTreeNode(object):\n",
    "\n",
    "    def __init__(self, value):\n",
    "        self.value = value\n",
    "        self.left  = None\n",
    "        self.right = None\n",
    "\n",
    "    def insert_left(self, value):\n",
    "        self.left = BinaryTreeNode(value)\n",
    "        return self.left\n",
    "\n",
    "    def insert_right(self, value):\n",
    "        self.right = BinaryTreeNode(value)\n",
    "        return self.right\n",
    "\n",
    "test_tree = BinaryTreeNode(1)\n",
    "test_tree.insert_left(2)\n",
    "test_tree.insert_right(3)\n",
    "test_tree.left.insert_left(4)\n",
    "test_tree.left.insert_right(5)\n",
    "#test_tree.right.insert_left(6)\n",
    "#test_tree.right.insert_right(7)\n",
    "#test_tree.left.left.insert_left(8)\n",
    "#test_tree.left.right.insert_left(9)\n",
    "test_tree.left.right.insert_right(10)\n",
    "\n",
    "super_balanced_ite(test_tree)"
   ]
  },
  {
   "cell_type": "markdown",
   "metadata": {},
   "source": [
    "lesson learned: <br>\n",
    "syntax- val1, val2 = list.pop() <br>\n",
    "DFS uses stack- the stack stores nodes that are there, but hasn't been explored (node.left, node.right). if a node is explored, pop it out. <br>\n",
    "find rules that maximize efficiency given the question- walk through all depths once and keep track of the length of depths_diff- if more than 2 then short circuit, if equls to two but difference is greater than 1 then short circuit <br>\n",
    "greedy- store something so you don't have to compare every pair <br>\n",
    "use stack for BFS "
   ]
  },
  {
   "cell_type": "markdown",
   "metadata": {
    "collapsed": true
   },
   "source": [
    "# Superbalanced Tree (DFS- recursive)"
   ]
  },
  {
   "cell_type": "code",
   "execution_count": 101,
   "metadata": {
    "collapsed": true
   },
   "outputs": [],
   "source": [
    "def super_balanced_rec_1(root_node):\n",
    "    depth_diff = []\n",
    "    depth = 0\n",
    "    \n",
    "    def get_depths(root_node, depth):\n",
    "        # if leaf\n",
    "        if (root_node.left == None) and (root_node.right == None):\n",
    "            if depth not in depth_diff:\n",
    "                depth_diff.append(depth)\n",
    "        # if not leaf\n",
    "        else:\n",
    "            if root_node.left:\n",
    "                get_depths(root_node.left, depth+1)\n",
    "            if root_node.right: \n",
    "                get_depths(root_node.right, depth+1)\n",
    "\n",
    "    get_depths(root_node, depth)\n",
    "\n",
    "    if len(depth_diff) > 2:\n",
    "        return False\n",
    "    elif len(depth_diff) == 2:\n",
    "        if depth_diff[0]-depth_diff[1] not in [-1, 1]:\n",
    "            return False\n",
    "        else:\n",
    "            return True\n",
    "    else:\n",
    "        return True"
   ]
  },
  {
   "cell_type": "code",
   "execution_count": 102,
   "metadata": {},
   "outputs": [
    {
     "data": {
      "text/plain": [
       "False"
      ]
     },
     "execution_count": 102,
     "metadata": {},
     "output_type": "execute_result"
    }
   ],
   "source": [
    "class BinaryTreeNode(object):\n",
    "\n",
    "    def __init__(self, value):\n",
    "        self.value = value\n",
    "        self.left  = None\n",
    "        self.right = None\n",
    "\n",
    "    def insert_left(self, value):\n",
    "        self.left = BinaryTreeNode(value)\n",
    "        return self.left\n",
    "\n",
    "    def insert_right(self, value):\n",
    "        self.right = BinaryTreeNode(value)\n",
    "        return self.right\n",
    "\n",
    "test_tree = BinaryTreeNode(1)\n",
    "test_tree.insert_left(2)\n",
    "test_tree.insert_right(3)\n",
    "test_tree.left.insert_left(4)\n",
    "test_tree.left.insert_right(5)\n",
    "#test_tree.right.insert_left(6)\n",
    "#test_tree.right.insert_right(7)\n",
    "#test_tree.left.left.insert_left(8)\n",
    "#test_tree.left.right.insert_left(9)\n",
    "test_tree.left.right.insert_right(10)\n",
    "\n",
    "super_balanced_rec_1(test_tree)"
   ]
  },
  {
   "cell_type": "code",
   "execution_count": 103,
   "metadata": {
    "collapsed": true
   },
   "outputs": [],
   "source": [
    "def super_balanced_rec_2(root_node):\n",
    "    depth_diff = []\n",
    "    depth = 0\n",
    "    \n",
    "    def get_depths(root_node, depth):\n",
    "        # if leaf\n",
    "        if (root_node.left == None) and (root_node.right == None):\n",
    "            if depth not in depth_diff:\n",
    "                depth_diff.append(depth)\n",
    "                if len(depth_diff) > 2:\n",
    "                    return False\n",
    "                elif (len(depth_diff)) == 2 and (depth_diff[0]-depth_diff[1] not in [-1, 1]):\n",
    "                    return False\n",
    "                else:\n",
    "                    return True\n",
    "            else:\n",
    "                return True\n",
    "        # if not leaf    \n",
    "        elif (root_node.left == None) and (root_node.right != None):\n",
    "            return get_depths(root_node.right, depth+1)\n",
    "        elif (root_node.left != None) and (root_node.right == None):\n",
    "            return get_depths(root_node.left, depth+1)\n",
    "        else:\n",
    "            return (get_depths(root_node.left, depth+1)) and (get_depths(root_node.right, depth+1))\n",
    "\n",
    "    return get_depths(root_node, depth)"
   ]
  },
  {
   "cell_type": "code",
   "execution_count": 104,
   "metadata": {},
   "outputs": [
    {
     "data": {
      "text/plain": [
       "False"
      ]
     },
     "execution_count": 104,
     "metadata": {},
     "output_type": "execute_result"
    }
   ],
   "source": [
    "class BinaryTreeNode(object):\n",
    "\n",
    "    def __init__(self, value):\n",
    "        self.value = value\n",
    "        self.left  = None\n",
    "        self.right = None\n",
    "\n",
    "    def insert_left(self, value):\n",
    "        self.left = BinaryTreeNode(value)\n",
    "        return self.left\n",
    "\n",
    "    def insert_right(self, value):\n",
    "        self.right = BinaryTreeNode(value)\n",
    "        return self.right\n",
    "\n",
    "test_tree = BinaryTreeNode(1)\n",
    "test_tree.insert_left(2)\n",
    "test_tree.insert_right(3)\n",
    "test_tree.left.insert_left(4)\n",
    "test_tree.left.insert_right(5)\n",
    "#test_tree.right.insert_left(6)\n",
    "#test_tree.right.insert_right(7)\n",
    "#test_tree.left.left.insert_left(8)\n",
    "#test_tree.left.right.insert_left(9)\n",
    "test_tree.left.right.insert_right(10)\n",
    "\n",
    "super_balanced_rec_2(test_tree)"
   ]
  },
  {
   "cell_type": "markdown",
   "metadata": {},
   "source": [
    "lesson learned: <br>\n",
    "-can't short circuit when doing recursion <br>\n",
    "-you can nest your function if you try to do recursion but need to initialize/perform evaluation at the end <br>\n",
    "-solution 2 is more effective b/c it's able to shortcircuit the sub function (not the whole thing, only the nested ones)"
   ]
  },
  {
   "cell_type": "markdown",
   "metadata": {},
   "source": [
    "# BFS- iterative "
   ]
  },
  {
   "cell_type": "code",
   "execution_count": 163,
   "metadata": {
    "collapsed": true
   },
   "outputs": [],
   "source": [
    "def bfs_ite(root_node):\n",
    "    queue = [root_node]\n",
    "    items = []\n",
    "    while len(queue):\n",
    "        current_node = queue.pop()\n",
    "        items.append(current_node.value)\n",
    "        if current_node.left:\n",
    "            queue.insert(0, current_node.left)\n",
    "        if current_node.right:\n",
    "            queue.insert(0, current_node.right)\n",
    "    print(items)"
   ]
  },
  {
   "cell_type": "code",
   "execution_count": 165,
   "metadata": {},
   "outputs": [
    {
     "name": "stdout",
     "output_type": "stream",
     "text": [
      "[1, 2, 3, 4, 5, 9, 10]\n"
     ]
    }
   ],
   "source": [
    "class BinaryTreeNode(object):\n",
    "\n",
    "    def __init__(self, value):\n",
    "        self.value = value\n",
    "        self.left  = None\n",
    "        self.right = None\n",
    "\n",
    "    def insert_left(self, value):\n",
    "        self.left = BinaryTreeNode(value)\n",
    "        return self.left\n",
    "\n",
    "    def insert_right(self, value):\n",
    "        self.right = BinaryTreeNode(value)\n",
    "        return self.right\n",
    "\n",
    "test_tree = BinaryTreeNode(1)\n",
    "test_tree.insert_left(2)\n",
    "test_tree.insert_right(3)\n",
    "test_tree.left.insert_left(4)\n",
    "test_tree.left.insert_right(5)\n",
    "#test_tree.right.insert_left(6)\n",
    "#test_tree.right.insert_right(7)\n",
    "#test_tree.left.left.insert_left(8)\n",
    "test_tree.left.right.insert_left(9)\n",
    "test_tree.left.right.insert_right(10)\n",
    "\n",
    "bfs_ite(test_tree)"
   ]
  },
  {
   "cell_type": "markdown",
   "metadata": {},
   "source": [
    "lesson learned:  <br>\n",
    "use queue for BFS <br>\n",
    "-insert- queue.insert(ind, item) <br>\n",
    "-delete- queue.pop() <br>"
   ]
  },
  {
   "cell_type": "markdown",
   "metadata": {},
   "source": [
    "# Valid Binary Search Tree- iterative"
   ]
  },
  {
   "cell_type": "code",
   "execution_count": 29,
   "metadata": {
    "collapsed": true
   },
   "outputs": [],
   "source": [
    "def bin_search_tree_ite(root_node):\n",
    "    l_bound = -float('inf')\n",
    "    r_bound = float('inf')\n",
    "    stack = [root_node, l_bound, r_bound]\n",
    "    while stack:\n",
    "        r_bound = stack.pop()\n",
    "        l_bound = stack.pop()\n",
    "        current_node = stack.pop()\n",
    "        if current_node.left:\n",
    "            if (current_node.left.value > current_node.value) or (current_node.left.value < l_bound):\n",
    "                return False\n",
    "            else:\n",
    "                stack.append(current_node.left)\n",
    "                stack.append(l_bound)\n",
    "                stack.append(current_node.value)\n",
    "        if current_node.right:\n",
    "            if (current_node.right.value < current_node.value) or (current_node.right.value > r_bound):\n",
    "                return False\n",
    "            else:\n",
    "                stack.append(current_node.right)\n",
    "                stack.append(current_node.value)\n",
    "                stack.append(r_bound)\n",
    "    return True     "
   ]
  },
  {
   "cell_type": "code",
   "execution_count": 30,
   "metadata": {},
   "outputs": [
    {
     "data": {
      "text/plain": [
       "False"
      ]
     },
     "execution_count": 30,
     "metadata": {},
     "output_type": "execute_result"
    }
   ],
   "source": [
    "class BinaryTreeNode(object):\n",
    "\n",
    "    def __init__(self, value):\n",
    "        self.value = value\n",
    "        self.left  = None\n",
    "        self.right = None\n",
    "\n",
    "    def insert_left(self, value):\n",
    "        self.left = BinaryTreeNode(value)\n",
    "        return self.left\n",
    "\n",
    "    def insert_right(self, value):\n",
    "        self.right = BinaryTreeNode(value)\n",
    "        return self.right\n",
    "\n",
    "test_tree = BinaryTreeNode(5)\n",
    "test_tree.insert_left(4)\n",
    "test_tree.insert_right(6)\n",
    "test_tree.left.insert_left(3)\n",
    "test_tree.left.insert_right(5)\n",
    "#test_tree.right.insert_left(6)\n",
    "#test_tree.right.insert_right(7)\n",
    "#test_tree.left.left.insert_left(8)\n",
    "test_tree.left.right.insert_left(4)\n",
    "test_tree.left.right.insert_right(6)\n",
    "\n",
    "bin_search_tree_ite(test_tree)"
   ]
  },
  {
   "cell_type": "markdown",
   "metadata": {},
   "source": [
    "lesson learned:  <br>\n",
    "l_bound = -float('inf') <br>\n",
    "u_bound = float('inf') <br>\n",
    "-this is greedy problem- it keeps tracks of l_bound and r_bound instead of comparing each node with ALL ancestors <br>\n",
    "-balanced binary tree has 0(lg n) depth, the more unbalanced, the closer depth gets to 0(n) <br>\n",
    "-DFS is more efficient (space) when it comes to BALANCED binary tree because breath increase twice as much each level 0(n) whereas depth is 0(lg n) <br>\n",
    "-if tree isn't balanced, DFS and BFS both will have worst case of 0(n)"
   ]
  },
  {
   "cell_type": "markdown",
   "metadata": {},
   "source": [
    "# Valid Binary Search Tree- recursive"
   ]
  },
  {
   "cell_type": "code",
   "execution_count": 40,
   "metadata": {
    "collapsed": true
   },
   "outputs": [],
   "source": [
    "def bin_search_tree_rec(root_node, l_bound=-float('inf'), r_bound=float('inf')):\n",
    "    if root_node == None:\n",
    "        return True\n",
    "    if (root_node.value < l_bound) or (root_node.value > r_bound):\n",
    "        return False\n",
    "    else:\n",
    "        return (bin_search_tree_rec(root_node.left, l_bound, root_node.value)) and (bin_search_tree_rec(root_node.right, root_node.value, r_bound))"
   ]
  },
  {
   "cell_type": "code",
   "execution_count": 41,
   "metadata": {},
   "outputs": [
    {
     "data": {
      "text/plain": [
       "False"
      ]
     },
     "execution_count": 41,
     "metadata": {},
     "output_type": "execute_result"
    }
   ],
   "source": [
    "class BinaryTreeNode(object):\n",
    "\n",
    "    def __init__(self, value):\n",
    "        self.value = value\n",
    "        self.left  = None\n",
    "        self.right = None\n",
    "\n",
    "    def insert_left(self, value):\n",
    "        self.left = BinaryTreeNode(value)\n",
    "        return self.left\n",
    "\n",
    "    def insert_right(self, value):\n",
    "        self.right = BinaryTreeNode(value)\n",
    "        return self.right\n",
    "\n",
    "test_tree = BinaryTreeNode(5)\n",
    "test_tree.insert_left(4)\n",
    "test_tree.insert_right(6)\n",
    "test_tree.left.insert_left(3)\n",
    "test_tree.left.insert_right(5)\n",
    "#test_tree.right.insert_left(6)\n",
    "#test_tree.right.insert_right(7)\n",
    "#test_tree.left.left.insert_left(8)\n",
    "test_tree.left.right.insert_left(4)\n",
    "test_tree.left.right.insert_right(6)\n",
    "\n",
    "bin_search_tree_rec(test_tree)"
   ]
  },
  {
   "cell_type": "markdown",
   "metadata": {},
   "source": [
    "lesson learned:  <br>\n",
    "-think about what to return when it comes to recursive- in this case it returns either T or F. Returning func and func will return F if at least one of the inside functions were F"
   ]
  },
  {
   "cell_type": "markdown",
   "metadata": {},
   "source": [
    "# Which appears twice"
   ]
  },
  {
   "cell_type": "code",
   "execution_count": 114,
   "metadata": {
    "collapsed": true
   },
   "outputs": [],
   "source": [
    "def find_dup(array):\n",
    "    n = len(array) - 1\n",
    "    expected_sum = (n**2 + n)/2\n",
    "    array_sum = 0\n",
    "    for i in array:\n",
    "        array_sum = array_sum + i\n",
    "    return array_sum - expected_sum"
   ]
  },
  {
   "cell_type": "code",
   "execution_count": 116,
   "metadata": {},
   "outputs": [
    {
     "data": {
      "text/plain": [
       "4.0"
      ]
     },
     "execution_count": 116,
     "metadata": {},
     "output_type": "execute_result"
    }
   ],
   "source": [
    "find_dup([1,2,3,4,4,5,6])"
   ]
  },
  {
   "cell_type": "markdown",
   "metadata": {},
   "source": [
    "lesson learned:  <br>\n"
   ]
  },
  {
   "cell_type": "markdown",
   "metadata": {},
   "source": [
    "# In-place shuffle"
   ]
  },
  {
   "cell_type": "code",
   "execution_count": 128,
   "metadata": {
    "collapsed": true
   },
   "outputs": [],
   "source": [
    "import random\n",
    "\n",
    "def get_random(floor, ceiling):\n",
    "    return random.randrange(floor, ceiling + 1)\n",
    "\n",
    "def shuffle(array):\n",
    "    ceiling = len(array) - 1\n",
    "    for i in range(len(array)):\n",
    "        floor = i\n",
    "        idx = get_random(floor, ceiling)\n",
    "        if idx != i:\n",
    "            temp = array[idx]\n",
    "            array[idx] = array[i]\n",
    "            array[i] = temp\n",
    "    return array\n",
    "        "
   ]
  },
  {
   "cell_type": "code",
   "execution_count": 129,
   "metadata": {},
   "outputs": [
    {
     "data": {
      "text/plain": [
       "[2, 3, 4, 5, 1, 6]"
      ]
     },
     "execution_count": 129,
     "metadata": {},
     "output_type": "execute_result"
    }
   ],
   "source": [
    "shuffle([1,2,3,4,5,6])"
   ]
  },
  {
   "cell_type": "markdown",
   "metadata": {},
   "source": [
    "lesson learned:  <br>\n",
    "-for i in range(5) goes through i = 1,2,3,4- starting at 0 and ending is exclusive <br>"
   ]
  },
  {
   "cell_type": "markdown",
   "metadata": {},
   "source": [
    "# Rand5() (iterative &recursive)"
   ]
  },
  {
   "cell_type": "code",
   "execution_count": null,
   "metadata": {
    "collapsed": true
   },
   "outputs": [],
   "source": [
    "def rand5():\n",
    "    output = rand7()\n",
    "    while output > 5:\n",
    "        output = rand7()\n",
    "    return output"
   ]
  },
  {
   "cell_type": "code",
   "execution_count": null,
   "metadata": {
    "collapsed": true
   },
   "outputs": [],
   "source": [
    "def rand5_rec():\n",
    "    output = rand7()\n",
    "    if output <= 5:\n",
    "        return output\n",
    "    else:\n",
    "        return rand5_rec()"
   ]
  },
  {
   "cell_type": "markdown",
   "metadata": {},
   "source": [
    "lesson learned:  <br>\n",
    "-making 7 possible outcome to have 5 possible outcome by throwing away 2 possible outcomes. startover if you get 1 of 2 thrown away outcomes"
   ]
  },
  {
   "cell_type": "markdown",
   "metadata": {},
   "source": [
    "# Rand7()"
   ]
  },
  {
   "cell_type": "code",
   "execution_count": 24,
   "metadata": {
    "collapsed": true
   },
   "outputs": [],
   "source": [
    "def rand7():\n",
    "    first = rand5()\n",
    "    second = rand5()\n",
    "    outcome = ((first-1) * 5) + second\n",
    "    while outcome > 21:\n",
    "        first = rand5()\n",
    "        second = rand5()\n",
    "        outcome = ((first-1) * 5) + second\n",
    "    output = (outcome % 7) + 1\n",
    "    return output      "
   ]
  },
  {
   "cell_type": "markdown",
   "metadata": {},
   "source": [
    "lesson learned:  <br>\n",
    "-making 5 possible outcome from 7 possible outcome by calling rand5() twice <br>\n",
    "-calling rand5() twice has 25 outcomes (5 * 5) <br>\n",
    "-we only care about 21 of them (do % 7 to get 7 outcomes), throw 4 outcomes away. redo if you get one of those 4 thrown away outcomes <br>\n",
    "-\"translate\" 2 rand5() calls into number 1-25 by imitating two-digit base-5 integer. each rand5() call is a digit.  "
   ]
  },
  {
   "cell_type": "markdown",
   "metadata": {},
   "source": [
    "# Delete linked list node"
   ]
  },
  {
   "cell_type": "code",
   "execution_count": 40,
   "metadata": {
    "collapsed": true
   },
   "outputs": [],
   "source": [
    "def del_node(node):\n",
    "    if node.next != None:\n",
    "        node.value = node.next.value\n",
    "        node.next = node.next.next\n",
    "    else:\n",
    "        node.value = None\n",
    "        node.next = None"
   ]
  },
  {
   "cell_type": "code",
   "execution_count": 41,
   "metadata": {
    "collapsed": true
   },
   "outputs": [],
   "source": [
    "class LinkedListNode(object):\n",
    "\n",
    "    def __init__(self, value):\n",
    "        self.value = value\n",
    "        self.next  = None\n",
    "\n",
    "a = LinkedListNode('A')\n",
    "b = LinkedListNode('B')\n",
    "c = LinkedListNode('C')\n",
    "d = LinkedListNode('D')\n",
    "\n",
    "a.next = b\n",
    "b.next = c\n",
    "c.next = d\n",
    "\n",
    "del_node(b)"
   ]
  },
  {
   "cell_type": "markdown",
   "metadata": {},
   "source": [
    "lesson learned:  <br>\n",
    "-inplace solutions have side effects (say this in interviews)<br>\n",
    "-don't get confused between the VALUE and the VARIABLE that points to the object"
   ]
  },
  {
   "cell_type": "markdown",
   "metadata": {},
   "source": [
    "# Linked list has cycle"
   ]
  },
  {
   "cell_type": "code",
   "execution_count": null,
   "metadata": {
    "collapsed": true
   },
   "outputs": [],
   "source": [
    "def is_cycle(head_node):\n",
    "    fast = head_node\n",
    "    slow = head_node\n",
    "    while (fast != None) and (fast.next != None) :\n",
    "        fast = fast.next.next\n",
    "        slow = slow.next\n",
    "        if fast == slow:\n",
    "            return True\n",
    "    return False"
   ]
  },
  {
   "cell_type": "markdown",
   "metadata": {},
   "source": [
    "lesson learned:  <br>\n",
    "-you can have 2 markers!! <br>\n",
    "-if there was a cycle, the two markers are guaranteed to meet INSIDE the cycle- you can prove you can use any speed beside 1to2 (1to3, 1to4....)"
   ]
  },
  {
   "cell_type": "markdown",
   "metadata": {},
   "source": [
    "# Fibonacci (recursive)"
   ]
  },
  {
   "cell_type": "code",
   "execution_count": 57,
   "metadata": {
    "collapsed": true
   },
   "outputs": [],
   "source": [
    "class Fibber():\n",
    "    \n",
    "    def __init__(self):\n",
    "        self.memo = {}\n",
    "\n",
    "    def fib(self, n):\n",
    "        \n",
    "        if (n == 1) or (n==0):\n",
    "            return n\n",
    "        \n",
    "        if n in self.memo:\n",
    "            return self.memo[n]\n",
    "\n",
    "        else:\n",
    "            result = self.fib(n-2) + self.fib(n-1)\n",
    "            self.memo[n] = result\n",
    "            return result"
   ]
  },
  {
   "cell_type": "code",
   "execution_count": 59,
   "metadata": {},
   "outputs": [
    {
     "data": {
      "text/plain": [
       "13"
      ]
     },
     "execution_count": 59,
     "metadata": {},
     "output_type": "execute_result"
    }
   ],
   "source": [
    "test = Fibber()\n",
    "test.fib(7)"
   ]
  },
  {
   "cell_type": "markdown",
   "metadata": {},
   "source": [
    "lesson learned:  <br>\n",
    "-recursive solution uses 0(2^n) time- terrible<br>\n",
    "-iterative use 0(n) time <br>\n",
    "-when need to track a variable in recursive, you can use class and treat it as an obj<br>\n",
    "-memoization lets you improve time, but takes up space"
   ]
  },
  {
   "cell_type": "markdown",
   "metadata": {},
   "source": [
    "# Fibonacci (iterative)"
   ]
  },
  {
   "cell_type": "code",
   "execution_count": 52,
   "metadata": {
    "collapsed": true
   },
   "outputs": [],
   "source": [
    "def fib_ite(n):\n",
    "    first = 0\n",
    "    second = 1\n",
    "    if (n == 1) or (n==0):\n",
    "        return n\n",
    "    else:\n",
    "        for i in range(1, n):\n",
    "            output = first + second\n",
    "            first = second\n",
    "            second = output\n",
    "        return output\n",
    "        "
   ]
  },
  {
   "cell_type": "code",
   "execution_count": 55,
   "metadata": {},
   "outputs": [
    {
     "data": {
      "text/plain": [
       "8"
      ]
     },
     "execution_count": 55,
     "metadata": {},
     "output_type": "execute_result"
    }
   ],
   "source": [
    "fib_ite(6)"
   ]
  },
  {
   "cell_type": "markdown",
   "metadata": {},
   "source": [
    "lesson learned:  <br>\n",
    "-iterative solution lets you save time AND space- bottom up solution. doesn't have to perform memoization and doesn't build up call stack"
   ]
  },
  {
   "cell_type": "markdown",
   "metadata": {},
   "source": [
    "# Reverse inplace"
   ]
  },
  {
   "cell_type": "code",
   "execution_count": 91,
   "metadata": {
    "collapsed": true
   },
   "outputs": [],
   "source": [
    "def reverse_inplace(string):\n",
    "    items = list(string)\n",
    "    left = 0\n",
    "    right = len(items) - 1\n",
    "    while (left < right):\n",
    "        temp = items[left]\n",
    "        items[left] = items[right]\n",
    "        items[right] = temp\n",
    "        left = left + 1\n",
    "        right = right -1\n",
    "    print(''.join(items))"
   ]
  },
  {
   "cell_type": "code",
   "execution_count": 92,
   "metadata": {},
   "outputs": [
    {
     "name": "stdout",
     "output_type": "stream",
     "text": [
      "atilahc\n"
     ]
    }
   ],
   "source": [
    "reverse_inplace('chalita')"
   ]
  },
  {
   "cell_type": "markdown",
   "metadata": {},
   "source": [
    "lesson learned:  <br>\n",
    "-''.join()"
   ]
  },
  {
   "cell_type": "markdown",
   "metadata": {},
   "source": [
    "# Reverse document inplace"
   ]
  },
  {
   "cell_type": "code",
   "execution_count": 104,
   "metadata": {
    "collapsed": true
   },
   "outputs": [],
   "source": [
    "def reverse_inplace(items, left, right):\n",
    "    while (left < right):\n",
    "        temp = items[left]\n",
    "        items[left] = items[right]\n",
    "        items[right] = temp\n",
    "        left = left + 1\n",
    "        right = right -1\n",
    "\n",
    "def reverse_inplace_doc(doc_list):\n",
    "    reverse_inplace(doc_list, 0, len(doc_list) - 1)\n",
    "    start_i = 0\n",
    "    for i in range(len(doc_list)+1):\n",
    "        if (i == len(doc_list) or (doc_list[i] == ' ')):\n",
    "            reverse_inplace(doc_list, start_i, i-1)\n",
    "            start_i = i + 1\n",
    "    return ''.join(doc_list)"
   ]
  },
  {
   "cell_type": "code",
   "execution_count": 105,
   "metadata": {},
   "outputs": [
    {
     "data": {
      "text/plain": [
       "'steal pound cake'"
      ]
     },
     "execution_count": 105,
     "metadata": {},
     "output_type": "execute_result"
    }
   ],
   "source": [
    "reverse_inplace_doc(['c', 'a', 'k', 'e', ' ','p', 'o', 'u', 'n', 'd', ' ','s', 't', 'e', 'a', 'l' ])"
   ]
  },
  {
   "cell_type": "markdown",
   "metadata": {},
   "source": [
    "lesson learned:  <br>\n",
    "-array reassignment takes 0(n), worst case (scooting) <br>\n",
    "-inplace algorithms don't return anything <br>\n",
    "-slicing an array will relocate that slice as another array <br>\n",
    "-think about edge cases!!! <br>\n",
    "-break problem into sub problems"
   ]
  },
  {
   "cell_type": "markdown",
   "metadata": {},
   "source": [
    "# Inflight entertainment"
   ]
  },
  {
   "cell_type": "code",
   "execution_count": 4,
   "metadata": {
    "collapsed": true
   },
   "outputs": [],
   "source": [
    "def two_movies(flight_length, movie_lengths):\n",
    "    possible_second = set()\n",
    "    for i in movie_lengths:\n",
    "        if i in possible_second:\n",
    "            return True\n",
    "        else:\n",
    "            possible_second.add(flight_length-i)\n",
    "    return False"
   ]
  },
  {
   "cell_type": "code",
   "execution_count": 9,
   "metadata": {},
   "outputs": [
    {
     "data": {
      "text/plain": [
       "False"
      ]
     },
     "execution_count": 9,
     "metadata": {},
     "output_type": "execute_result"
    }
   ],
   "source": [
    "two_movies(8, [2,4,7,9,11,86,8])"
   ]
  },
  {
   "cell_type": "markdown",
   "metadata": {},
   "source": [
    "lesson learned:  <br>\n",
    "my_set.add()\n",
    "hash-like data structure should be your first thought when optimizing for time!!!"
   ]
  },
  {
   "cell_type": "code",
   "execution_count": 15,
   "metadata": {
    "collapsed": true
   },
   "outputs": [],
   "source": [
    "def reverse_link_list(head_node):\n",
    "    m = head_node\n",
    "    l = None \n",
    "    while m != None:\n",
    "        r = m.next\n",
    "        m.next = l\n",
    "        l = m\n",
    "        m = r \n",
    "    return l.value"
   ]
  },
  {
   "cell_type": "markdown",
   "metadata": {},
   "source": [
    "# Reverse linked list"
   ]
  },
  {
   "cell_type": "code",
   "execution_count": 24,
   "metadata": {},
   "outputs": [
    {
     "data": {
      "text/plain": [
       "4"
      ]
     },
     "execution_count": 24,
     "metadata": {},
     "output_type": "execute_result"
    }
   ],
   "source": [
    "class LinkedListNode(object):\n",
    "\n",
    "    def __init__(self, value):\n",
    "        self.value = value\n",
    "        self.next  = None\n",
    "        \n",
    "\n",
    "one = LinkedListNode(1)\n",
    "two = LinkedListNode(2)\n",
    "three = LinkedListNode(3)\n",
    "four = LinkedListNode(4)\n",
    "\n",
    "one.next = two\n",
    "two.next = three\n",
    "three.next = four\n",
    "four.next = None\n",
    "\n",
    "reverse_link_list(one)"
   ]
  },
  {
   "cell_type": "markdown",
   "metadata": {},
   "source": [
    "lesson learned:  <br>\n",
    "-practice walking through 1-off mistakes..... walk through a sample input <br>\n",
    "-just remember we need 3 pointers when reversing linked list"
   ]
  },
  {
   "cell_type": "code",
   "execution_count": 6,
   "metadata": {
    "collapsed": true
   },
   "outputs": [],
   "source": [
    "def pivot_point(list_of_words):\n",
    "    left = 0\n",
    "    right = len(list_of_words)-1\n",
    "    while left != right:\n",
    "        mid = int((left+right)/2)\n",
    "        if list(list_of_words[mid])[0] < list(list_of_words[0])[0]:\n",
    "            right = mid\n",
    "        else:\n",
    "            left = mid + 1\n",
    "    return list_of_words[left] "
   ]
  },
  {
   "cell_type": "code",
   "execution_count": 10,
   "metadata": {},
   "outputs": [
    {
     "data": {
      "text/plain": [
       "'asymptote'"
      ]
     },
     "execution_count": 10,
     "metadata": {},
     "output_type": "execute_result"
    }
   ],
   "source": [
    "pivot_point(['ptolemaic', 'retrograde', 'supplant',\n",
    "                                      'undulate', 'xenoepist', 'asymptote',\n",
    "                                      'babka', 'banoffee', 'engender',\n",
    "                                      'karpatka', 'othellolagkage'])"
   ]
  },
  {
   "cell_type": "markdown",
   "metadata": {},
   "source": [
    "lesson learned:  <br>\n",
    "-draw out example inputs to define rules<br>\n",
    "-just memorize this for binary search:<br>\n",
    "    while left != right \n",
    "    ,mid = int((left+right)/2)\n",
    "    ,right = mid\n",
    "    ,left = mid + 1\n",
    "    ,return left"
   ]
  },
  {
   "cell_type": "markdown",
   "metadata": {},
   "source": [
    "# Implement queue with stack"
   ]
  },
  {
   "cell_type": "code",
   "execution_count": 35,
   "metadata": {
    "collapsed": true
   },
   "outputs": [],
   "source": [
    "class two_stacks_queue():\n",
    "    \n",
    "    def __init__(self):\n",
    "        self.instack = []\n",
    "        self.outstack = []\n",
    "        \n",
    "    def inqueue(self, item):\n",
    "        self.instack.append(item)\n",
    "        \n",
    "    def dequeue(self):\n",
    "        if len(self.outstack) == 0:\n",
    "            while len(self.instack) > 0:\n",
    "                move = self.instack.pop()\n",
    "                self.outstack.append(move)\n",
    "            if len(self.outstack) == 0:\n",
    "                print('cant dequeue empty queue')\n",
    "        out = self.outstack.pop()\n",
    "        print(out)"
   ]
  },
  {
   "cell_type": "code",
   "execution_count": 36,
   "metadata": {},
   "outputs": [
    {
     "name": "stdout",
     "output_type": "stream",
     "text": [
      "1\n",
      "2\n"
     ]
    }
   ],
   "source": [
    "test = two_stacks_queue()\n",
    "test.inqueue(1)\n",
    "test.inqueue(2)\n",
    "test.dequeue()\n",
    "test.inqueue(3)\n",
    "test.dequeue()"
   ]
  },
  {
   "cell_type": "markdown",
   "metadata": {},
   "source": [
    "lesson learned:  <br>\n",
    "-check edge cases!!!!!"
   ]
  },
  {
   "cell_type": "markdown",
   "metadata": {},
   "source": [
    "# Merge sorted list"
   ]
  },
  {
   "cell_type": "code",
   "execution_count": 4,
   "metadata": {
    "collapsed": true
   },
   "outputs": [],
   "source": [
    "def merge_sorted_list(list1, list2):\n",
    "    if (len(list1) == 0) and (len(list2) != 0):\n",
    "        return list2\n",
    "    elif (len(list2) == 0) and (len(list1) != 0):\n",
    "        return list1\n",
    "    elif (len(list2) == 0) and (len(list1) == 0):\n",
    "        return \"can't merge\"\n",
    "    else:\n",
    "        cur_idx_1 = 0\n",
    "        cur_idx_2 = 0\n",
    "        output = []\n",
    "        while cur_idx_1 < len(list1) and cur_idx_2 < len(list2):\n",
    "            if list1[cur_idx_1] < list2[cur_idx_2]:\n",
    "                output.append(list1[cur_idx_1])\n",
    "                cur_idx_1 = cur_idx_1 + 1\n",
    "            else:\n",
    "                output.append(list2[cur_idx_2])\n",
    "                cur_idx_2 = cur_idx_2 + 1\n",
    "        if cur_idx_1 == len(list1):\n",
    "            for i in list2[cur_idx_2:]:\n",
    "                output.append(i)\n",
    "        else:\n",
    "            for i in list1[cur_idx_1:]:\n",
    "                output.append(i)\n",
    "        return output        "
   ]
  },
  {
   "cell_type": "markdown",
   "metadata": {},
   "source": [
    "lesson learned:  <br>\n",
    "-check edge cases!!!!!"
   ]
  },
  {
   "cell_type": "markdown",
   "metadata": {},
   "source": [
    "# Single riffle (recursive)"
   ]
  },
  {
   "cell_type": "code",
   "execution_count": 8,
   "metadata": {
    "collapsed": true
   },
   "outputs": [],
   "source": [
    "def is_single_riffle_rec(half1, half2, shuffled, half1_idx, half2_idx, shuffled_idx):\n",
    "    if shuffled_idx == len(shuffled):\n",
    "        return True\n",
    "    elif (shuffled[shuffled_idx] != half1[half1_idx]) and (shuffled[shuffled_idx] != half2[half2_idx]):\n",
    "        return False\n",
    "    elif (shuffled[shuffled_idx] == half1[half1_idx]):\n",
    "        if half1_idx != len(half1) - 1:\n",
    "            half1_idx = half1_idx + 1\n",
    "        shuffled_idx = shuffled_idx + 1\n",
    "        return is_single_riffle_rec(half1, half2, shuffled, half1_idx, half2_idx, shuffled_idx)\n",
    "    else:\n",
    "        if half2_idx != len(half2) - 1:\n",
    "            half2_idx = half2_idx + 1\n",
    "        shuffled_idx = shuffled_idx + 1\n",
    "        return is_single_riffle_rec(half1, half2, shuffled, half1_idx, half2_idx, shuffled_idx)"
   ]
  },
  {
   "cell_type": "code",
   "execution_count": 9,
   "metadata": {},
   "outputs": [
    {
     "data": {
      "text/plain": [
       "False"
      ]
     },
     "execution_count": 9,
     "metadata": {},
     "output_type": "execute_result"
    }
   ],
   "source": [
    "is_single_riffle_rec([1, 5, 5], [2, 3, 6], [1, 2, 3, 4, 5, 6], 0, 0, 0)"
   ]
  },
  {
   "cell_type": "markdown",
   "metadata": {
    "collapsed": true
   },
   "source": [
    "lesson learned:  <br>\n",
    "-(n-1)+(n-2)+...+2+1 = n^2 <br>\n",
    "-slicing- allocating space of new list, taking time to copy- 0(n) time, 0(n)space- n is the number of items in the new list <br>\n",
    "-instead of slicing, keep track of indices instead <br>\n",
    "-recursive takes extra space, especially with the slicing"
   ]
  },
  {
   "cell_type": "markdown",
   "metadata": {},
   "source": [
    "# Single riffle (iterative)"
   ]
  },
  {
   "cell_type": "code",
   "execution_count": 13,
   "metadata": {
    "collapsed": true
   },
   "outputs": [],
   "source": [
    "def is_single_riffle_ite(half1, half2, shuffled):\n",
    "    half1_idx = 0\n",
    "    half2_idx = 0\n",
    "    shuffled_idx = 0\n",
    "    while shuffled_idx < len(shuffled):\n",
    "        if (half1[half1_idx] != shuffled[shuffled_idx]) and (half2[half2_idx] != shuffled[shuffled_idx]):\n",
    "            return False\n",
    "        elif half1[half1_idx] == shuffled[shuffled_idx]:\n",
    "            if half1_idx != len(half1) - 1:\n",
    "                half1_idx += 1\n",
    "            shuffled_idx += 1\n",
    "        else:\n",
    "            if half2_idx != len(half2) - 1:\n",
    "                half2_idx += 1\n",
    "            shuffled_idx += 1\n",
    "    return True"
   ]
  },
  {
   "cell_type": "code",
   "execution_count": 14,
   "metadata": {},
   "outputs": [
    {
     "data": {
      "text/plain": [
       "False"
      ]
     },
     "execution_count": 14,
     "metadata": {},
     "output_type": "execute_result"
    }
   ],
   "source": [
    "is_single_riffle_ite([1, 5, 5], [2, 3, 6], [1, 2, 3, 4, 5, 6])"
   ]
  },
  {
   "cell_type": "markdown",
   "metadata": {},
   "source": [
    "# Highest product of three"
   ]
  },
  {
   "cell_type": "code",
   "execution_count": 76,
   "metadata": {
    "collapsed": true
   },
   "outputs": [],
   "source": [
    "def highest_prod_three(array):\n",
    "    if array[0]>array[1]:\n",
    "        high = array[0]\n",
    "        low = array[1]\n",
    "    else:\n",
    "        high = array[1]\n",
    "        low = array[0]\n",
    "    high_prod_3 = float('-inf')\n",
    "    high_prod_2 = array[0]*array[1]\n",
    "    low_prod_2 = array[0]*array[1]\n",
    "    for i in range(2, len(array)):\n",
    "        current = array[i]\n",
    "        #updating high_prod_3\n",
    "        one = high_prod_2 * current\n",
    "        two = low_prod_2 * current\n",
    "        if one > high_prod_3:\n",
    "            high_prod_3 = one\n",
    "        if two > high_prod_3:\n",
    "            high_prod_3 = two\n",
    "        #updating high_prod_2 & high\n",
    "        high_prod_2_mul = high_prod_2 / high\n",
    "        if current > high_prod_2_mul:\n",
    "            if current > high:\n",
    "                high_prod_2_mul = high\n",
    "                high = current\n",
    "            else:\n",
    "                high_prod_2_mul = current\n",
    "            high_prod_2 = high_prod_2_mul * high\n",
    "        #updating low_prod_2 & low\n",
    "        low_prod_2_mul = low_prod_2 / low\n",
    "        comb1 = low * current\n",
    "        comb2 = low_prod_2_mul * current\n",
    "        if comb1 < comb2:\n",
    "            if comb1 < low_prod_2:\n",
    "                low_prod_2 = comb1\n",
    "        else:\n",
    "            if comb2 < low_prod_2:\n",
    "                low_prod_2 = comb2\n",
    "        if current < low:\n",
    "            low = current\n",
    "    return high_prod_3        "
   ]
  },
  {
   "cell_type": "code",
   "execution_count": 81,
   "metadata": {},
   "outputs": [
    {
     "data": {
      "text/plain": [
       "-6"
      ]
     },
     "execution_count": 81,
     "metadata": {},
     "output_type": "execute_result"
    }
   ],
   "source": [
    "highest_prod_three([-5, -1, -3, -2])"
   ]
  },
  {
   "cell_type": "code",
   "execution_count": 83,
   "metadata": {
    "collapsed": true
   },
   "outputs": [],
   "source": [
    "def highest_prod_3_solution(list_of_ints):\n",
    "    if len(list_of_ints) < 3:\n",
    "        raise ValueError('Less than 3 items!')\n",
    "\n",
    "    # We're going to start at the 3rd item (at index 2)\n",
    "    # so pre-populate highests and lowests based on the first 2 items.\n",
    "    # We could also start these as None and check below if they're set\n",
    "    # but this is arguably cleaner\n",
    "    highest = max(list_of_ints[0], list_of_ints[1])\n",
    "    lowest  = min(list_of_ints[0], list_of_ints[1])\n",
    "    highest_product_of_2 = list_of_ints[0] * list_of_ints[1]\n",
    "    lowest_product_of_2  = list_of_ints[0] * list_of_ints[1]\n",
    "\n",
    "    # Except this one--we pre-populate it for the first *3* items.\n",
    "    # This means in our first pass it'll check against itself, which is fine.\n",
    "    highest_product_of_3 = list_of_ints[0] * list_of_ints[1] * list_of_ints[2]\n",
    "\n",
    "    # Walk through items, starting at index 2\n",
    "    for i in xrange(2, len(list_of_ints)):\n",
    "        current = list_of_ints[i]\n",
    "\n",
    "        # Do we have a new highest product of 3?\n",
    "        # It's either the current highest,\n",
    "        # or the current times the highest product of two\n",
    "        # or the current times the lowest product of two\n",
    "        highest_product_of_3 = max(highest_product_of_3,\n",
    "                                   current * highest_product_of_2,\n",
    "                                   current * lowest_product_of_2)\n",
    "\n",
    "        # Do we have a new highest product of two?\n",
    "        highest_product_of_2 = max(highest_product_of_2,\n",
    "                                   current * highest,\n",
    "                                   current * lowest)\n",
    "\n",
    "        # Do we have a new lowest product of two?\n",
    "        lowest_product_of_2 = min(lowest_product_of_2,\n",
    "                                  current * highest,\n",
    "                                  current * lowest)\n",
    "\n",
    "        # Do we have a new highest?\n",
    "        highest = max(highest, current)\n",
    "\n",
    "        # Do we have a new lowest?\n",
    "        lowest = min(lowest, current)\n",
    "\n",
    "    return highest_product_of_3"
   ]
  },
  {
   "cell_type": "markdown",
   "metadata": {},
   "source": [
    "lesson learned:  <br>\n",
    "-think of how to still get the highest product, even with negative sign <br>\n",
    "    -if current is possitive, highest_product_of_3 is obtained from highest_product_of_2 <br>\n",
    "    -if current is negative, highest_product_of_3 is obtained from lowest_product_of_2 <br>\n",
    "    -key is to track lowest_product_of_2, highest_product_of_2 <br>\n",
    "        -have to track low, high in order to be able to update these "
   ]
  },
  {
   "cell_type": "markdown",
   "metadata": {},
   "source": [
    "# Find duplicate (graph)"
   ]
  },
  {
   "cell_type": "code",
   "execution_count": 25,
   "metadata": {
    "collapsed": true
   },
   "outputs": [],
   "source": [
    "def find_dup_linkedlist(array):\n",
    "    #get inside a cycle\n",
    "    current_position = len(array)\n",
    "    for i in range(0,len(array)-1):\n",
    "        current_position = array[current_position-1]\n",
    "    #get cycle length\n",
    "    remember_val = current_position\n",
    "    same_val = array[current_position-1]\n",
    "    count = 1\n",
    "    while remember_val != same_val:\n",
    "        same_val = array[same_val-1]\n",
    "        count += 1\n",
    "    cycle_len = count\n",
    "    #find first node with the stick method\n",
    "    first_marker_position = len(array)\n",
    "    second_marker_position = len(array)\n",
    "    for i in range(0, cycle_len):\n",
    "        second_marker_position = array[second_marker_position-1]\n",
    "    while second_marker_position != first_marker_position:\n",
    "        first_marker_position = array[first_marker_position-1]\n",
    "        second_marker_position = array[second_marker_position-1]\n",
    "    return first_marker_position"
   ]
  },
  {
   "cell_type": "code",
   "execution_count": 26,
   "metadata": {},
   "outputs": [
    {
     "data": {
      "text/plain": [
       "5"
      ]
     },
     "execution_count": 26,
     "metadata": {},
     "output_type": "execute_result"
    }
   ],
   "source": [
    "find_dup_linkedlist([1, 2, 5, 5, 5, 5])"
   ]
  },
  {
   "cell_type": "markdown",
   "metadata": {},
   "source": [
    "lesson learned:  <br>\n",
    "-EVERYONE NEEDS HINTS FOR QUESTIONS LIKE THIS. drop everything and really LISTEN to the interviewer's questions/hints<br>\n",
    "-steps to complete this questions:<br>\n",
    "    -We know the position of a node with multiple incoming pointers is a duplicate in our list because the nodes that pointed to it must have the same value. <br>\n",
    "    -We find a node with multiple incoming pointers by finding the first node in a cycle. <br>\n",
    "    -We find the first node in a cycle by finding the length of the cycle and advancing two pointers: one starting at the head of the linked list, and the other starting ahead as many steps as there are nodes in the cycle. The pointers will meet at the first node in the cycle. <br>\n",
    "    -We find the length of a cycle by remembering a position inside the cycle and counting the number of steps it takes to get back to that position. <br>\n",
    "    -We get inside a cycle by starting at the head and walking nn steps. We know the head of the list is at position n + 1n+1. <br>"
   ]
  },
  {
   "cell_type": "markdown",
   "metadata": {},
   "source": [
    "# Word cloud"
   ]
  },
  {
   "cell_type": "code",
   "execution_count": 22,
   "metadata": {
    "collapsed": true
   },
   "outputs": [],
   "source": [
    "class WordCloud:\n",
    "    def __init__(self):\n",
    "        self.word_count_dict = {}\n",
    "        \n",
    "    def get_words(self, input_string):\n",
    "        start_idx = 0\n",
    "        word_len = 0\n",
    "        for cur_idx, char in enumerate(input_string):\n",
    "            if cur_idx == len(input_string) - 1:\n",
    "                if char.isalpha():\n",
    "                    end_idx = len(input_string)\n",
    "                    self.add_word(input_string[start_idx:end_idx])\n",
    "                else:\n",
    "                    end_idx = len(input_string) - 1\n",
    "                    self.add_word(input_string[start_idx:end_idx])\n",
    "            elif char.isalpha() or char == '\\'':\n",
    "                word_len += 1\n",
    "            elif char == '.':\n",
    "                if word_len != 0:\n",
    "                    end_idx = start_idx + word_len \n",
    "                    self.add_word(input_string[start_idx:end_idx])\n",
    "                    start_idx = end_idx + 1\n",
    "                    word_len = 0\n",
    "                else:\n",
    "                    start_idx += 1\n",
    "            elif char == ' ' or char == u'\\u2014':\n",
    "                if word_len != 0:\n",
    "                    end_idx = start_idx + word_len \n",
    "                    self.add_word(input_string[start_idx:end_idx])\n",
    "                    start_idx = end_idx + 1\n",
    "                    word_len = 0\n",
    "                else:\n",
    "                    start_idx += 1\n",
    "                    \n",
    "    def add_word(self, word):\n",
    "        if word in self.word_count_dict:\n",
    "            self.word_count_dict[word] += 1\n",
    "        elif word.lower() in self.word_count_dict:\n",
    "            self.word_count_dict[word.lower()] += 1\n",
    "        elif word.capitalize() in self.word_count_dict:\n",
    "            if word == word.capitalize():\n",
    "                self.word_count_dict[word.capitalize()] += 1\n",
    "            else:\n",
    "                existing_count = self.word_count_dict[word.capitalize()]\n",
    "                self.word_count_dict[word] = existing_count + 1\n",
    "                del self.word_count_dict[word.capitalize()]\n",
    "        else:\n",
    "            self.word_count_dict[word] = 1\n",
    "              "
   ]
  },
  {
   "cell_type": "code",
   "execution_count": 23,
   "metadata": {},
   "outputs": [
    {
     "data": {
      "text/plain": [
       "{' Cakes': 1, \" Sasha'\": 1, \"Allie's\": 1, 'Bakery': 1}"
      ]
     },
     "execution_count": 23,
     "metadata": {},
     "output_type": "execute_result"
    }
   ],
   "source": [
    "test = WordCloud()\n",
    "test.get_words(\"Allie's Bakery: Sasha's Cakes\")\n",
    "test.word_count_dict"
   ]
  },
  {
   "cell_type": "markdown",
   "metadata": {
    "collapsed": true
   },
   "source": [
    "lesson learned:  <br>\n",
    "-track index instead of the actual word b/c when you append a string, python make another copy of the string <br>\n",
    "-come up with multiple possible solutions and weight them based on the context. TALK ABOUT PROS & CONS <br>\n",
    "-for i, char in enumerate(input_string) <br>\n",
    "-.isalpha() <br>\n",
    "-.lower() <br>\n",
    "-.capitalize() <br>"
   ]
  },
  {
   "cell_type": "markdown",
   "metadata": {},
   "source": [
    "# Product of all"
   ]
  },
  {
   "cell_type": "code",
   "execution_count": 58,
   "metadata": {
    "collapsed": true
   },
   "outputs": [],
   "source": [
    "def product_of_all(array):\n",
    "    if len(array) < 2:\n",
    "        raise ValueError(\"can't do this\")\n",
    "    prod = [1]\n",
    "    before_prod = 1\n",
    "    for i in range(1,len(array)):\n",
    "        before_prod = before_prod * array[i-1]\n",
    "        prod.append(before_prod)\n",
    "    after_prod = 1\n",
    "    for j in range(len(array)-2, -1, -1):\n",
    "        after_prod = after_prod * array[j+1]\n",
    "        prod[j] = prod[j]*after_prod\n",
    "    print(prod)"
   ]
  },
  {
   "cell_type": "code",
   "execution_count": 57,
   "metadata": {},
   "outputs": [
    {
     "name": "stdout",
     "output_type": "stream",
     "text": [
      "[-8, -56, -14, -28]\n"
     ]
    }
   ],
   "source": [
    "product_of_all([-7, -1, -4, -2])"
   ]
  },
  {
   "cell_type": "markdown",
   "metadata": {},
   "source": [
    "lesson learned:  <br>\n",
    "-look for repeated calculations and save that- DRAW SAMPLE INPUT AND WORK IT OUT BY HAND <br>\n",
    "-break the problem down to subproblems <br>\n",
    "-for i in range(5,-1,-1) to get i = 5,4,3,2,1,0 (stop is exclusive) <br>\n",
    "-raise ValueError(\"can't do this\") <br>"
   ]
  },
  {
   "cell_type": "markdown",
   "metadata": {},
   "source": [
    "# Second largest BST"
   ]
  },
  {
   "cell_type": "code",
   "execution_count": 15,
   "metadata": {
    "collapsed": true
   },
   "outputs": [],
   "source": [
    "def find_largest(root):\n",
    "    if (root == None) or (root.right == None and root.left == None):\n",
    "        raise ValueError(\"need at least 2 nodes\")\n",
    "    prev_node = root\n",
    "    current_node = root\n",
    "    next_node = root.right\n",
    "    while next_node:\n",
    "        prev_node = current_node\n",
    "        current_node = next_node\n",
    "        next_node = current_node.right\n",
    "    return current_node, prev_node\n",
    "\n",
    "def find_second_largest(root):\n",
    "    largest_node, largest_prev_node = find_largest(root)\n",
    "    if largest_node.left:\n",
    "        return(find_largest(largest_node.left)[0].value)\n",
    "    else:\n",
    "        return(largest_prev_node.value)"
   ]
  },
  {
   "cell_type": "code",
   "execution_count": 17,
   "metadata": {},
   "outputs": [
    {
     "data": {
      "text/plain": [
       "15"
      ]
     },
     "execution_count": 17,
     "metadata": {},
     "output_type": "execute_result"
    }
   ],
   "source": [
    "test = BinaryTreeNode(10)\n",
    "test.insert_left(5)\n",
    "test.insert_right(15)\n",
    "#test.right.insert_left(13)\n",
    "#test.right.left.insert_left(12)\n",
    "#test.right.left.insert_right(14)\n",
    "test.right.insert_right(16)\n",
    "test.right.insert_left(14)\n",
    "\n",
    "find_second_largest(test)"
   ]
  },
  {
   "cell_type": "code",
   "execution_count": 18,
   "metadata": {
    "collapsed": true
   },
   "outputs": [],
   "source": [
    "class BinaryTreeNode(object):\n",
    "\n",
    "    def __init__(self, value):\n",
    "        self.value = value\n",
    "        self.left  = None\n",
    "        self.right = None\n",
    "\n",
    "    def insert_left(self, value):\n",
    "        self.left = BinaryTreeNode(value)\n",
    "        return self.left\n",
    "\n",
    "    def insert_right(self, value):\n",
    "        self.right = BinaryTreeNode(value)\n",
    "        return self.right"
   ]
  },
  {
   "cell_type": "markdown",
   "metadata": {},
   "source": [
    "lesson learned:  <br>\n",
    "-BREAK DOWN THE PROBLEM INTO SUB PROBLEMS (find_largest()) then think of all the cases<br>\n",
    "-check edge cases"
   ]
  },
  {
   "cell_type": "markdown",
   "metadata": {},
   "source": [
    "# Mesh message"
   ]
  },
  {
   "cell_type": "code",
   "execution_count": 93,
   "metadata": {
    "collapsed": true
   },
   "outputs": [],
   "source": [
    "from collections import deque\n",
    "\n",
    "def BackTrack(start, end, save_already_seen_and_path):\n",
    "    output = [end]\n",
    "    curr_node = end\n",
    "    while curr_node != start:\n",
    "        next_node = save_already_seen_and_path[curr_node]\n",
    "        output.append(next_node)\n",
    "        curr_node = next_node\n",
    "    output.reverse()\n",
    "    return output\n",
    "\n",
    "def MeshMessage(network_dict, start, end):\n",
    "    if (start not in network_dict) or (end not in network_dict):\n",
    "        raise Exception('start or end not in network')\n",
    "    to_visit_queue = deque()\n",
    "    to_visit_queue.append((start,None))\n",
    "    save_already_seen_and_path = {}\n",
    "    while len(to_visit_queue) > 0:\n",
    "        items = to_visit_queue.popleft()\n",
    "        current_node = items[0]\n",
    "        current_node_from = items[1]\n",
    "        if current_node not in save_already_seen_and_path:\n",
    "            save_already_seen_and_path[current_node] = current_node_from\n",
    "            for neighbor in network_dict[current_node]:\n",
    "                to_visit_queue.append((neighbor, current_node))\n",
    "                if neighbor == end:\n",
    "                    save_already_seen_and_path[neighbor] = current_node\n",
    "                    path = BackTrack(start, end, save_already_seen_and_path)\n",
    "                    return path\n",
    "    return ('no path')"
   ]
  },
  {
   "cell_type": "code",
   "execution_count": 100,
   "metadata": {},
   "outputs": [
    {
     "data": {
      "text/plain": [
       "['Adam', 'Amelia']"
      ]
     },
     "execution_count": 100,
     "metadata": {},
     "output_type": "execute_result"
    }
   ],
   "source": [
    "network = {\n",
    "    'Min'     : ['William', 'Jayden', 'Omar'],\n",
    "    'William' : ['Min', 'Noam'],\n",
    "    'Jayden'  : ['Min', 'Amelia', 'Ren', 'Noam'],\n",
    "    'Ren'     : ['Jayden', 'Omar'],\n",
    "    'Amelia'  : ['Jayden', 'Adam', 'Miguel'],\n",
    "    'Adam'    : ['Amelia', 'Miguel'],\n",
    "    'Miguel'  : ['Amelia', 'Adam'],\n",
    "    'Noam'    : ['Jayden', 'William'],\n",
    "    'Omar'    : ['Ren'],\n",
    "    'Lita'    : ['Omar']\n",
    "}\n",
    "\n",
    "MeshMessage(network, 'Adam', 'Amelia')"
   ]
  },
  {
   "cell_type": "markdown",
   "metadata": {},
   "source": [
    "lesson learned:  <br>\n",
    "-from collections import deque <br>\n",
    "deque = deque() <br>\n",
    "-.reverse()- reverse list in place <br>\n",
    "-combine redundant variables (save_already_seen_and_path serves 2 purposes- store already seen nodes, and store path) <br>\n",
    "-BFS and DFS time complexity is O(n+m) where n is node and m is sum of all items in adjacency list"
   ]
  },
  {
   "cell_type": "code",
   "execution_count": null,
   "metadata": {
    "collapsed": true
   },
   "outputs": [],
   "source": []
  }
 ],
 "metadata": {
  "kernelspec": {
   "display_name": "Python 3",
   "language": "python",
   "name": "python3"
  },
  "language_info": {
   "codemirror_mode": {
    "name": "ipython",
    "version": 3
   },
   "file_extension": ".py",
   "mimetype": "text/x-python",
   "name": "python",
   "nbconvert_exporter": "python",
   "pygments_lexer": "ipython3",
   "version": "3.6.2"
  }
 },
 "nbformat": 4,
 "nbformat_minor": 2
}
