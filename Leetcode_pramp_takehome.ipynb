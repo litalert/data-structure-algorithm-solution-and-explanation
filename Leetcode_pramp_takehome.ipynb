{
 "cells": [
  {
   "cell_type": "markdown",
   "metadata": {},
   "source": [
    "# 1- Two Sum"
   ]
  },
  {
   "cell_type": "code",
   "execution_count": 31,
   "metadata": {},
   "outputs": [],
   "source": [
    "def twoSum(nums, target):\n",
    "    i_idx = 0\n",
    "    for i in nums:\n",
    "        a_idx = 0\n",
    "        for a in nums:\n",
    "            if i + a == target and i_idx != a_idx:\n",
    "                return i_idx, a_idx\n",
    "            a_idx = a_idx + 1\n",
    "        i_idx = i_idx + 1"
   ]
  },
  {
   "cell_type": "code",
   "execution_count": 34,
   "metadata": {},
   "outputs": [
    {
     "data": {
      "text/plain": [
       "(0, 3)"
      ]
     },
     "execution_count": 34,
     "metadata": {},
     "output_type": "execute_result"
    }
   ],
   "source": [
    "twoSum([3, 2, 4, 3], 6)"
   ]
  },
  {
   "cell_type": "markdown",
   "metadata": {},
   "source": [
    "# 412- Fizz Buzz"
   ]
  },
  {
   "cell_type": "code",
   "execution_count": 3,
   "metadata": {},
   "outputs": [],
   "source": [
    "def fizzBizz(n):\n",
    "    n = n+1\n",
    "    for i in list(range(1, n)):\n",
    "        if i%3 == 0 and i%5 == 0:\n",
    "            print('FizzBuzz')\n",
    "        elif i%3 == 0:\n",
    "            print('Fizz')\n",
    "        elif i%5 == 0:\n",
    "            print('Buzz')\n",
    "        else:\n",
    "            print(i)"
   ]
  },
  {
   "cell_type": "code",
   "execution_count": 4,
   "metadata": {},
   "outputs": [
    {
     "name": "stdout",
     "output_type": "stream",
     "text": [
      "1\n",
      "2\n",
      "Fizz\n",
      "4\n",
      "Buzz\n",
      "Fizz\n",
      "7\n",
      "8\n",
      "Fizz\n",
      "Buzz\n"
     ]
    }
   ],
   "source": [
    "fizzBizz(10)"
   ]
  },
  {
   "cell_type": "markdown",
   "metadata": {},
   "source": [
    "## (take home test)You're a wedding planner trying to fit maximum performances into your client schedule. Given startTime array and performanceDurations array, find maximum number of performances that you can fit in. "
   ]
  },
  {
   "cell_type": "code",
   "execution_count": 123,
   "metadata": {},
   "outputs": [],
   "source": [
    "def max_performance(arrivals, durations):\n",
    "    \n",
    "    #construct end_times list\n",
    "    end_times = []\n",
    "    for i in range(len(arrivals)):\n",
    "        end_times.append(arrivals[i] + durations[i])\n",
    "    \n",
    "    #contruct start_end_times dict\n",
    "    start_end_time_dict = {}\n",
    "    for i in range(len(arrivals)):\n",
    "        if end_times[i] in start_end_time_dict:\n",
    "            start_end_time_dict[end_times[i]] = max(start_end_time_dict[end_times[i]], arrivals[i])\n",
    "        else:\n",
    "            start_end_time_dict[end_times[i]] = arrivals[i]\n",
    "    \n",
    "    #construct max_end_time array to \"build up\" max performances at a given end time\n",
    "    max_end_time = max(end_times)\n",
    "    max_performance_at_end_time = [0] * (max_end_time + 1)\n",
    "    \n",
    "    #populate max_end_time array\n",
    "    curr_end = 0\n",
    "    count = 0\n",
    "    for i in range(len(max_performance_at_end_time)):\n",
    "        if (i in start_end_time_dict) and (start_end_time_dict[i] >= curr_end):\n",
    "            count += 1\n",
    "            max_performance_at_end_time[i] = count\n",
    "            curr_end = i\n",
    "        else:\n",
    "            max_performance_at_end_time[i] = count\n",
    "\n",
    "    return count"
   ]
  },
  {
   "cell_type": "code",
   "execution_count": 214,
   "metadata": {},
   "outputs": [
    {
     "data": {
      "text/plain": [
       "4"
      ]
     },
     "execution_count": 214,
     "metadata": {},
     "output_type": "execute_result"
    }
   ],
   "source": [
    "max_performance([1,3,3,5,7], [2,2,1,2,1])"
   ]
  },
  {
   "cell_type": "markdown",
   "metadata": {},
   "source": [
    "## (pramp) Given dimension of your grid, n. Points in the grid are defined as (i, j). Starting at (0,0), find the number of paths you can take to get to (n-1), (n-1). You're only allowed to go up or right. And i has to be more than j at all time. "
   ]
  },
  {
   "cell_type": "code",
   "execution_count": 5,
   "metadata": {},
   "outputs": [],
   "source": [
    "def find_path(n, i, j, memo):\n",
    "    if (i, j) in memo:\n",
    "        return memo[(i, j)]\n",
    "    if (i == n-1) and (j == n-1):\n",
    "        return 1\n",
    "    elif (i > n-1) or (j > n-1):\n",
    "        return 0\n",
    "    elif j > i:\n",
    "        return 0\n",
    "    elif i > n:\n",
    "        return 0\n",
    "    elif j > n:\n",
    "        return 0\n",
    "    else:\n",
    "        memo[(i+1, j)] = find_path(n, i+1, j, memo)\n",
    "        memo[(i, j+1)] = find_path(n, i, j+1, memo)\n",
    "        return memo[(i+1, j)] + memo[(i, j+1)]\n",
    "\n",
    "def num_of_paths_to_dest(n):\n",
    "    memo = {}\n",
    "    return find_path(n, 0, 0, memo)"
   ]
  },
  {
   "cell_type": "code",
   "execution_count": 6,
   "metadata": {},
   "outputs": [
    {
     "data": {
      "text/plain": [
       "2"
      ]
     },
     "execution_count": 6,
     "metadata": {},
     "output_type": "execute_result"
    }
   ],
   "source": [
    "num_of_paths_to_dest(3)"
   ]
  },
  {
   "cell_type": "markdown",
   "metadata": {},
   "source": [
    "# 509- Fibbonacci Number (iterative & recursive with memoization)"
   ]
  },
  {
   "cell_type": "code",
   "execution_count": 7,
   "metadata": {},
   "outputs": [],
   "source": [
    "def feb_ite(n):\n",
    "    if n == 1:\n",
    "        return [1]\n",
    "    if n == 2:\n",
    "        return [1,1]\n",
    "    if n > 2:\n",
    "        pt1 = 0\n",
    "        pt2 = 1\n",
    "        output = [1,1]\n",
    "        for i in range(n-2):\n",
    "            output.append(output[pt1] + output[pt2])\n",
    "            pt1 += 1\n",
    "            pt2 += 1\n",
    "        return output"
   ]
  },
  {
   "cell_type": "code",
   "execution_count": 8,
   "metadata": {},
   "outputs": [
    {
     "data": {
      "text/plain": [
       "[1, 1, 2, 3, 5, 8, 13, 21, 34, 55]"
      ]
     },
     "execution_count": 8,
     "metadata": {},
     "output_type": "execute_result"
    }
   ],
   "source": [
    "feb_ite(10)"
   ]
  },
  {
   "cell_type": "code",
   "execution_count": 9,
   "metadata": {},
   "outputs": [],
   "source": [
    "def feb_rec(n, output):\n",
    "    if n == 1:\n",
    "        output.append(1)\n",
    "        return 1\n",
    "    if n == 2:\n",
    "        output.append(1)\n",
    "        return 1\n",
    "    else:\n",
    "        feb_num = feb_rec(n-2, output) + feb_rec(n-1, output)\n",
    "        output.append(feb_num)\n",
    "        return feb_num\n",
    "    \n",
    "def feb_rec_call(n):\n",
    "    output = []\n",
    "    feb_rec(n, output)\n",
    "    return output"
   ]
  },
  {
   "cell_type": "code",
   "execution_count": 10,
   "metadata": {},
   "outputs": [],
   "source": [
    "def feb_rec(n, memo):\n",
    "    if n == 1:\n",
    "        memo[1] = 1\n",
    "        return 1\n",
    "    if n == 2:\n",
    "        memo[2] = 1\n",
    "        return 1\n",
    "    if n in memo:\n",
    "        return memo[n]\n",
    "    else:\n",
    "        feb_num = feb_rec(n-2, memo) + feb_rec(n-1, memo)\n",
    "        memo[n] = feb_num\n",
    "        return feb_num\n",
    "    \n",
    "def feb_rec_memo(n):\n",
    "    memo = {}\n",
    "    return feb_rec(n, memo)"
   ]
  },
  {
   "cell_type": "code",
   "execution_count": 11,
   "metadata": {},
   "outputs": [
    {
     "data": {
      "text/plain": [
       "13"
      ]
     },
     "execution_count": 11,
     "metadata": {},
     "output_type": "execute_result"
    }
   ],
   "source": [
    "feb_rec_memo(7)"
   ]
  },
  {
   "cell_type": "markdown",
   "metadata": {},
   "source": [
    "## (practice) Given an array, find moving average."
   ]
  },
  {
   "cell_type": "code",
   "execution_count": 144,
   "metadata": {},
   "outputs": [],
   "source": [
    "def moving_avg(array):\n",
    "    if len(array) == 0:\n",
    "        raise ValueError \n",
    "    output = []\n",
    "    running_sum = 0\n",
    "    for i in range(len(array)):\n",
    "        running_sum += array[i]\n",
    "        output.append(running_sum/(i+1))\n",
    "    return output"
   ]
  },
  {
   "cell_type": "code",
   "execution_count": 145,
   "metadata": {},
   "outputs": [
    {
     "data": {
      "text/plain": [
       "[10.0, 15.0, 20.0, 17.5]"
      ]
     },
     "execution_count": 145,
     "metadata": {},
     "output_type": "execute_result"
    }
   ],
   "source": [
    "moving_avg([10, 20, 30, 10])"
   ]
  },
  {
   "cell_type": "markdown",
   "metadata": {},
   "source": [
    "# (practice) Given a string, count how many words in the string. All the words are separated by spaces."
   ]
  },
  {
   "cell_type": "code",
   "execution_count": 162,
   "metadata": {},
   "outputs": [],
   "source": [
    "def countSegments(strg):\n",
    "    if strg[0] == ' ':\n",
    "        start = 1\n",
    "    else:\n",
    "        start = 0\n",
    "\n",
    "    if strg[len(strg) -1] != ' ':\n",
    "        strg = strg + ' '\n",
    "\n",
    "    count = 0\n",
    "    for i in range(start, len(strg)):\n",
    "        if strg[i] == ' ':\n",
    "            if strg[i-1] != ' ':\n",
    "                count += 1\n",
    "    return count"
   ]
  },
  {
   "cell_type": "code",
   "execution_count": 164,
   "metadata": {},
   "outputs": [
    {
     "data": {
      "text/plain": [
       "8"
      ]
     },
     "execution_count": 164,
     "metadata": {},
     "output_type": "execute_result"
    }
   ],
   "source": [
    "countSegments(\"Hello, my    name is   John haha you're funny \")"
   ]
  },
  {
   "cell_type": "markdown",
   "metadata": {},
   "source": [
    "# (practice) Binary search"
   ]
  },
  {
   "cell_type": "code",
   "execution_count": 187,
   "metadata": {},
   "outputs": [],
   "source": [
    "def bin_search(array, item):\n",
    "    left = 0\n",
    "    right = len(array) - 1\n",
    "    while left <= right:\n",
    "        mid = (left + right)//2\n",
    "        if item == array[mid]:\n",
    "            return True\n",
    "        elif item > array[mid]:\n",
    "            left = mid + 1\n",
    "        else:\n",
    "            right = mid\n",
    "    return False"
   ]
  },
  {
   "cell_type": "code",
   "execution_count": 192,
   "metadata": {},
   "outputs": [
    {
     "data": {
      "text/plain": [
       "True"
      ]
     },
     "execution_count": 192,
     "metadata": {},
     "output_type": "execute_result"
    }
   ],
   "source": [
    "bin_search([1,3,5,6,8], 8)"
   ]
  },
  {
   "cell_type": "markdown",
   "metadata": {},
   "source": [
    "# 206- Reverse Integer"
   ]
  },
  {
   "cell_type": "code",
   "execution_count": 12,
   "metadata": {},
   "outputs": [],
   "source": [
    "def reverse(x):\n",
    "    if x < 0 :\n",
    "        neg_flag = True\n",
    "        x = x*-1\n",
    "    else:\n",
    "        neg_flag = False\n",
    "    if x == 0 :\n",
    "        return 0\n",
    "    curr_num = x\n",
    "    reversed_num = 0\n",
    "    while curr_num >= 1:\n",
    "        digit = curr_num % 10\n",
    "        reversed_num = (reversed_num * 10) + digit\n",
    "        curr_num = int(curr_num / 10)\n",
    "    if neg_flag:\n",
    "        reversed_num = reversed_num * -1\n",
    "    return reversed_num"
   ]
  },
  {
   "cell_type": "code",
   "execution_count": 13,
   "metadata": {},
   "outputs": [
    {
     "data": {
      "text/plain": [
       "321"
      ]
     },
     "execution_count": 13,
     "metadata": {},
     "output_type": "execute_result"
    }
   ],
   "source": [
    "reverse(123)"
   ]
  },
  {
   "cell_type": "markdown",
   "metadata": {},
   "source": [
    "# 21- Merge Two Sorted Lists"
   ]
  },
  {
   "cell_type": "code",
   "execution_count": 14,
   "metadata": {},
   "outputs": [],
   "source": [
    "def merge(head1, head2):\n",
    "    if head1.val > head2.val:\n",
    "        curr_head = head2\n",
    "        pt2 = head2.next\n",
    "        pt1 = head1\n",
    "    else:\n",
    "        curr_head = head1\n",
    "        pt1 = head1.next\n",
    "        pt2 = head2\n",
    "    curr = curr_head\n",
    "    while (pt1 != None) and (pt2 != None):\n",
    "        if pt1.val > pt2.val:\n",
    "            curr.next = pt2\n",
    "            pt2 = pt2.next\n",
    "        else:\n",
    "            curr.next = pt1\n",
    "            pt1 = pt1.next\n",
    "        curr = curr.next\n",
    "    if pt2 != None:\n",
    "        curr.next = pt2\n",
    "    else:\n",
    "        curr.next = pt1\n",
    "    return curr_head"
   ]
  },
  {
   "cell_type": "code",
   "execution_count": 15,
   "metadata": {},
   "outputs": [],
   "source": [
    "class ListNode:\n",
    "    def __init__(self, x):\n",
    "        self.val = x\n",
    "        self.next = None\n",
    "        \n",
    "one1 = ListNode(1)\n",
    "one2 = ListNode(2)\n",
    "one3 = ListNode(4)\n",
    "two1 = ListNode(1)\n",
    "two2 = ListNode(3)\n",
    "two3 = ListNode(4)\n",
    "\n",
    "one1.next = one2\n",
    "one2.next = one3\n",
    "two1.next = two2\n",
    "two2.next = two3"
   ]
  },
  {
   "cell_type": "code",
   "execution_count": 16,
   "metadata": {},
   "outputs": [],
   "source": [
    "output = merge(one1, two1)"
   ]
  },
  {
   "cell_type": "code",
   "execution_count": 17,
   "metadata": {},
   "outputs": [
    {
     "data": {
      "text/plain": [
       "3"
      ]
     },
     "execution_count": 17,
     "metadata": {},
     "output_type": "execute_result"
    }
   ],
   "source": [
    "output.next.next.next.val"
   ]
  },
  {
   "cell_type": "markdown",
   "metadata": {},
   "source": [
    "# 20- Valid Parentheses"
   ]
  },
  {
   "cell_type": "code",
   "execution_count": 18,
   "metadata": {},
   "outputs": [],
   "source": [
    "def valid_paren(string):\n",
    "    paren_dict = {'(':')', '{':'}', '[':']'}\n",
    "    stack = []\n",
    "    for i in string:\n",
    "        if i in paren_dict:\n",
    "            stack.append(i)\n",
    "        else:\n",
    "            if len(stack) == 0:\n",
    "                return False\n",
    "            else:\n",
    "                popped_item = stack.pop()\n",
    "                if paren_dict[popped_item] != i:\n",
    "                    return False\n",
    "    if len(stack) != 0:\n",
    "        return False\n",
    "    else:\n",
    "        return True"
   ]
  },
  {
   "cell_type": "code",
   "execution_count": 19,
   "metadata": {},
   "outputs": [
    {
     "data": {
      "text/plain": [
       "True"
      ]
     },
     "execution_count": 19,
     "metadata": {},
     "output_type": "execute_result"
    }
   ],
   "source": [
    "valid_paren(\"{[]}\")"
   ]
  },
  {
   "cell_type": "markdown",
   "metadata": {},
   "source": [
    "# 206- Reverse Linked List"
   ]
  },
  {
   "cell_type": "code",
   "execution_count": 20,
   "metadata": {},
   "outputs": [],
   "source": [
    "def rev_list(head):\n",
    "    if head == None:\n",
    "        return None\n",
    "    elif head.next == None:\n",
    "        return head\n",
    "    else:\n",
    "        pt1 = head\n",
    "        pt2 = head.next\n",
    "        pt3 = head.next.next\n",
    "        pt1.next = None\n",
    "        while pt2 != None:\n",
    "            pt2.next = pt1\n",
    "            pt1 = pt2\n",
    "            pt2 = pt3\n",
    "            if pt3 != None:\n",
    "                pt3 = pt3.next\n",
    "        return pt1"
   ]
  },
  {
   "cell_type": "code",
   "execution_count": 21,
   "metadata": {},
   "outputs": [],
   "source": [
    "class ListNode:\n",
    "    def __init__(self, x):\n",
    "        self.val = x\n",
    "        self.next = None\n",
    "        \n",
    "one = ListNode(1)\n",
    "two = ListNode(2)\n",
    "three = ListNode(3)\n",
    "four = ListNode(4)\n",
    "five = ListNode(5)\n",
    "\n",
    "\n",
    "one.next = two\n",
    "one.next.next = three\n",
    "one.next.next.next = four\n",
    "one.next.next.next.next = five"
   ]
  },
  {
   "cell_type": "code",
   "execution_count": 22,
   "metadata": {},
   "outputs": [],
   "source": [
    "out = rev_list(one)"
   ]
  },
  {
   "cell_type": "code",
   "execution_count": 23,
   "metadata": {},
   "outputs": [
    {
     "data": {
      "text/plain": [
       "3"
      ]
     },
     "execution_count": 23,
     "metadata": {},
     "output_type": "execute_result"
    }
   ],
   "source": [
    "out.next.next.val"
   ]
  },
  {
   "cell_type": "markdown",
   "metadata": {},
   "source": [
    "# 121- Best Time to Buy and Sell Stock"
   ]
  },
  {
   "cell_type": "code",
   "execution_count": 26,
   "metadata": {},
   "outputs": [],
   "source": [
    "def max_profit(array):\n",
    "    if len(array) < 2:\n",
    "        raise ValueError('too little data')\n",
    "    elif len(array) == 2:\n",
    "        return array[1] - array[0]\n",
    "    else:\n",
    "        pt1 = 0\n",
    "        pt2 = 1\n",
    "        max_profit = float('-inf')\n",
    "        min_buy = array[pt1]\n",
    "        for i in range(len(array)-1):\n",
    "            min_buy = min(min_buy, array[pt1])\n",
    "            max_profit = max(max_profit, array[pt2]-min_buy)\n",
    "            pt1 += 1\n",
    "            pt2 += 1\n",
    "        return max_profit"
   ]
  },
  {
   "cell_type": "code",
   "execution_count": 27,
   "metadata": {},
   "outputs": [
    {
     "data": {
      "text/plain": [
       "5"
      ]
     },
     "execution_count": 27,
     "metadata": {},
     "output_type": "execute_result"
    }
   ],
   "source": [
    "max_profit([7,1,5,3,6,4])"
   ]
  },
  {
   "cell_type": "markdown",
   "metadata": {},
   "source": [
    "# 771- Jewels and Stones"
   ]
  },
  {
   "cell_type": "code",
   "execution_count": 28,
   "metadata": {},
   "outputs": [],
   "source": [
    "def numjew(J, S):\n",
    "    jew_set = ()\n",
    "    for j in J:\n",
    "        jew_set.add(j)\n",
    "    count = 0\n",
    "    for s in S:\n",
    "        if s in jew_set:\n",
    "            count += 1\n",
    "    return count"
   ]
  },
  {
   "cell_type": "markdown",
   "metadata": {},
   "source": [
    "# 53- Maximum Subarray"
   ]
  },
  {
   "cell_type": "code",
   "execution_count": 41,
   "metadata": {},
   "outputs": [],
   "source": [
    "def max_sub_arr(array):\n",
    "    if len(array) < 1:\n",
    "        return 0\n",
    "    if len(array) == 1:\n",
    "        return array[0]\n",
    "    global_max = float('-inf')\n",
    "    consec_max = 0\n",
    "    for i in array:\n",
    "        consec_max += i\n",
    "        consec_max = max(i, consec_max)\n",
    "        global_max = max(global_max, consec_max)\n",
    "    return global_max"
   ]
  },
  {
   "cell_type": "code",
   "execution_count": 42,
   "metadata": {},
   "outputs": [
    {
     "data": {
      "text/plain": [
       "6"
      ]
     },
     "execution_count": 42,
     "metadata": {},
     "output_type": "execute_result"
    }
   ],
   "source": [
    "max_sub_arr([-2,1,-3,4,-1,2,1,-5,4])"
   ]
  },
  {
   "cell_type": "markdown",
   "metadata": {},
   "source": [
    "# 13- Roman to Integer"
   ]
  },
  {
   "cell_type": "code",
   "execution_count": 10,
   "metadata": {},
   "outputs": [],
   "source": [
    "def romansum(s):\n",
    "    to_int_dict = {'I':1, 'V':5, 'X':10, 'L':50, 'C':100, 'D':500, 'M':1000}\n",
    "    total = 0\n",
    "    pt = 0\n",
    "    while pt < len(s):\n",
    "        if pt+1 < len(s) and to_int_dict[s[pt+1]] > to_int_dict[s[pt]]:\n",
    "            total += to_int_dict[s[pt+1]] - to_int_dict[s[pt]]\n",
    "            pt += 2\n",
    "        else:\n",
    "            total += to_int_dict[s[pt]]\n",
    "            pt += 1\n",
    "    return total"
   ]
  },
  {
   "cell_type": "code",
   "execution_count": 11,
   "metadata": {},
   "outputs": [
    {
     "data": {
      "text/plain": [
       "1994"
      ]
     },
     "execution_count": 11,
     "metadata": {},
     "output_type": "execute_result"
    }
   ],
   "source": [
    "romansum('MCMXCIV')"
   ]
  },
  {
   "cell_type": "code",
   "execution_count": null,
   "metadata": {},
   "outputs": [],
   "source": []
  }
 ],
 "metadata": {
  "kernelspec": {
   "display_name": "Python 3",
   "language": "python",
   "name": "python3"
  },
  "language_info": {
   "codemirror_mode": {
    "name": "ipython",
    "version": 3
   },
   "file_extension": ".py",
   "mimetype": "text/x-python",
   "name": "python",
   "nbconvert_exporter": "python",
   "pygments_lexer": "ipython3",
   "version": "3.6.8"
  }
 },
 "nbformat": 4,
 "nbformat_minor": 2
}
